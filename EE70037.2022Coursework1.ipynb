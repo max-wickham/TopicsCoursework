{
 "cells": [
  {
   "cell_type": "markdown",
   "metadata": {},
   "source": [
    "# Coursework 1:\n",
    "Problems are set by Dr. Wei Dai and Mr. Xi Yao, 2022"
   ]
  },
  {
   "cell_type": "code",
   "execution_count": null,
   "metadata": {},
   "outputs": [],
   "source": [
    "using DataFrames, FFTW, BenchmarkTools, LinearAlgebra, StatsBase, CairoMakie, LinearMaps, IterativeSolvers,JLD2\n",
    "\n",
    "# Make sure that you complete the involvement table. \n",
    "# The first row is for CID number. \n",
    "# Other rows are for the involvement for each \"big\" problem (8 big problems in coursework 1). \n",
    "# \"1\" for getting involved in this part. \n",
    "# \"0\" for not involved\n",
    "Contributions = DataFrame( A=[1234,0,0,0,0], B = [1234,0,0,0,0] )"
   ]
  },
  {
   "cell_type": "markdown",
   "metadata": {},
   "source": [
    "#   1 Trace (10)\n",
    "\n",
    "Give a sqaure matrix $\\boldsymbol{A} \\in \\mathbb{R}^{n \\times n}$, its trace is defined as the sum of the diagonal elements:\n",
    "\\begin{align*}\n",
    "    & \\text{trace}(\\boldsymbol{A}) := \\sum_{i=1}^n A_{i,i}.\n",
    "\\end{align*}"
   ]
  },
  {
   "cell_type": "markdown",
   "metadata": {},
   "source": [
    "\n",
    "##  1.1 (4)\n",
    "\n",
    "Let $\\boldsymbol{A},\\boldsymbol{B} \\in \\mathbb{R}^{m \\times n}$. \n",
    "\n",
    "    \n",
    "1. Identify the dimension of $\\boldsymbol{A} \\boldsymbol{B}^{\\mathsf{T}}$. \n",
    "        \n",
    "        \n",
    "2. Identify the dimension of $\\boldsymbol{A}^{\\mathsf{T}} \\boldsymbol{B}$.  \n",
    "        \n",
    "3. Prove that \n",
    "       $$ \n",
    "        \\begin{align*}\n",
    "            & \\text{trace}\\left(\\boldsymbol{A} \\boldsymbol{B}^{\\mathsf{T}}\\right) \n",
    "            = \\text{trace}\\left(\\boldsymbol{A}^{\\mathsf{T}} \\boldsymbol{B}\\right).\n",
    "        \\end{align*}\n",
    "       $$"
   ]
  },
  {
   "cell_type": "markdown",
   "metadata": {},
   "source": [
    "## 1.1 Answer \n",
    "\n",
    "Fill the answer here"
   ]
  },
  {
   "cell_type": "markdown",
   "metadata": {},
   "source": [
    "##  1.2 (6)\n",
    "\n",
    "For any two matrices $\\boldsymbol{A},\\boldsymbol{B} \\in \\mathbb{R}^{m \\times n}$, define the inner product between them:\n",
    "    $$\n",
    "    \\begin{align*}\n",
    "        & \\left\\langle \\boldsymbol{A},\\boldsymbol{B} \\right\\rangle \n",
    "        := \\text{trace}\\left( \\boldsymbol{A}^{\\mathsf{T}} \\boldsymbol{B} \\right).\n",
    "    \\end{align*}\n",
    "    $$\n",
    "\n",
    "Let $\\boldsymbol{A} \\in \\mathbb{R}^{m_1 \\times n_1}$ and $\\boldsymbol{B} \\in \\mathbb{R}^{m_2 \\times n_2}$. \n",
    "\n",
    "\n",
    "1. Prove that \n",
    "        $$\n",
    "        \\begin{align*}\n",
    "            & \\left\\langle \\boldsymbol{A},\\boldsymbol{B} \\right\\rangle\n",
    "            = \\left\\langle \\text{vect}(\\boldsymbol{A}),\\text{vect}(\\boldsymbol{B}) \\right\\rangle\n",
    "        \\end{align*}\n",
    "        $$\n",
    "2. Specify the dimensions of $\\boldsymbol{U}$ and $\\boldsymbol{V}$ such that    \n",
    "       $$\n",
    "        \\begin{align*}\n",
    "            \\left\\langle \\boldsymbol{U} \\boldsymbol{A} \\boldsymbol{V}^{\\mathsf{T}},\\boldsymbol{B} \\right\\rangle\n",
    "        \\end{align*}\n",
    "        $$\n",
    "        is well-defined. \n",
    "3.  Prove that \n",
    "        $$\n",
    "        \\begin{align*}\n",
    "            & \\left\\langle \\boldsymbol{U} \\boldsymbol{A} \\boldsymbol{V}^{\\mathsf{T}},\\boldsymbol{B} \\right\\rangle \n",
    "            = \\left\\langle  \\boldsymbol{A},\\boldsymbol{U}^{\\mathsf{T}} \\boldsymbol{B} \\boldsymbol{V} \\right\\rangle.\n",
    "        \\end{align*}\n",
    "        $$"
   ]
  },
  {
   "cell_type": "markdown",
   "metadata": {},
   "source": [
    "##   1.2 Answer \n",
    "\n",
    "Fill the answer here"
   ]
  },
  {
   "cell_type": "markdown",
   "metadata": {},
   "source": [
    "#  2  Positive Semi-definite Matrices (15)\n",
    "\n",
    "Let $\\boldsymbol{A} \\in \\mathbb{R}^{n \\times n}$ be symmetric, i.e., $\\boldsymbol{A}^{\\mathsf{T}}$. \n",
    "\n",
    "The matrix $\\boldsymbol{A}$ is positive definite, denoted by $\\boldsymbol{A} \\succ 0$, if for all nonzero $\\boldsymbol{v} \\in \\mathbb{R}^n$, it holds that \n",
    "\\begin{align*}\n",
    "    & \\boldsymbol{v}^{\\mathsf{T}} \\boldsymbol{A} \\boldsymbol{v} > 0. \n",
    "\\end{align*}\n",
    "\n",
    "It is positive semi-definite (also known as non-negative definite), denoted by $\\boldsymbol{A} \\succeq 0$, if for all nonzero $\\boldsymbol{v} \\in \\mathbb{R}^n$, it holds that \n",
    "\\begin{align*}\n",
    "    & \\boldsymbol{v}^{\\mathsf{T}} \\boldsymbol{A} \\boldsymbol{v} \\ge 0. \n",
    "\\end{align*}\n",
    "\n",
    "It is called indefinite if it is not positive semi-definite and not negative semi-definite. \n",
    "\n",
    "For each of the following matrices, identify whether it is positive definite, or positive semi-definite, or indefinite. For positive semi-definite matrices, identify a vector $\\boldsymbol{v}$ such that $\\boldsymbol{v}^{\\mathsf{T}} \\boldsymbol{A} \\boldsymbol{v} = 0$. For indefinite matrices, identify two vectors $\\boldsymbol{v}_1$ and $\\boldsymbol{v}_2$ such that $\\boldsymbol{v}_1^{\\mathsf{T}} \\boldsymbol{A} \\boldsymbol{v}_1 > 0$ and $\\boldsymbol{v}_2^{\\mathsf{T}} \\boldsymbol{A} \\boldsymbol{v}_2 < 0$.\n",
    "\n",
    "\n"
   ]
  },
  {
   "cell_type": "markdown",
   "metadata": {},
   "source": [
    "## 2.1 Diagonal matrices (5)\n",
    "\n",
    "1.  $$\n",
    "        \\begin{align*}\n",
    "            & \\boldsymbol{A} = \\begin{bmatrix}\n",
    "                2 & \\\\ & 1\n",
    "            \\end{bmatrix}.\n",
    "        \\end{align*}\n",
    "    $$\n",
    "2. $$\n",
    "        \\begin{align*}\n",
    "            & \\boldsymbol{A} = \\begin{bmatrix}\n",
    "                0 & \\\\ & 1\n",
    "            \\end{bmatrix}.\n",
    "        \\end{align*}\n",
    "    $$\n",
    "3.  $$\n",
    "        \\begin{align*}\n",
    "            & \\boldsymbol{A} = \\begin{bmatrix}\n",
    "                2 & \\\\ & -1\n",
    "            \\end{bmatrix}.\n",
    "        \\end{align*}\n",
    "    $$"
   ]
  },
  {
   "cell_type": "markdown",
   "metadata": {},
   "source": [
    "##   2.1 Answer \n",
    "\n",
    "Fill the answer here"
   ]
  },
  {
   "cell_type": "markdown",
   "metadata": {},
   "source": [
    "##  2.2 Matrices with explicit decomposition (5)\n",
    "\n",
    "Let $$\n",
    "    \\begin{align*}\n",
    "        & \\boldsymbol{U} = \\frac{1}{\\sqrt{2}}\n",
    "        \\begin{bmatrix}\n",
    "            1 & 1 \\\\ 1 & -1\n",
    "        \\end{bmatrix}.\n",
    "    \\end{align*}\n",
    "    $$\n",
    "\n",
    "1.  $$   \n",
    "        \\begin{align*}\n",
    "            & \\boldsymbol{A} = \n",
    "            \\boldsymbol{U} \n",
    "            \\begin{bmatrix}\n",
    "                2 & \\\\ & 1\n",
    "            \\end{bmatrix}\n",
    "            \\boldsymbol{U}^{\\mathsf{T}}\n",
    "        \\end{align*}\n",
    "    $$\n",
    "2. $$   \n",
    "        \\begin{align*}\n",
    "            & \\boldsymbol{A} = \n",
    "            \\boldsymbol{U} \n",
    "            \\begin{bmatrix}\n",
    "                0 & \\\\ & 1\n",
    "            \\end{bmatrix}\n",
    "            \\boldsymbol{U}^{\\mathsf{T}}\n",
    "        \\end{align*}\n",
    "    $$\n",
    "3. $$   \n",
    "        \\begin{align*}\n",
    "            & \\boldsymbol{A} = \n",
    "            \\boldsymbol{U} \n",
    "            \\begin{bmatrix}\n",
    "                2 & \\\\ & -1\n",
    "            \\end{bmatrix}\n",
    "            \\boldsymbol{U}^{\\mathsf{T}}\n",
    "        \\end{align*}\n",
    "    $$"
   ]
  },
  {
   "cell_type": "markdown",
   "metadata": {},
   "source": [
    "##  2.2 Answer \n",
    "\n",
    "Fill the answer here"
   ]
  },
  {
   "cell_type": "markdown",
   "metadata": {},
   "source": [
    "##  2.3 General matrices (5)\n",
    "\n",
    "\n",
    "1.  $$   \n",
    "        \\begin{align*}\n",
    "            & \\boldsymbol{A} =\n",
    "            \\begin{bmatrix}\n",
    "                2 & 2 \\\\ 2 & 1\n",
    "            \\end{bmatrix}\n",
    "        \\end{align*}\n",
    "    $$\n",
    "2. $$   \n",
    "        \\begin{align*}\n",
    "            & \\boldsymbol{A} =\n",
    "            \\begin{bmatrix}\n",
    "                2 & 2 \\\\ 2 & 2\n",
    "            \\end{bmatrix}\n",
    "        \\end{align*}\n",
    "    $$\n",
    "3. $$   \n",
    "        \\begin{align*}\n",
    "            & \\boldsymbol{A} =\n",
    "            \\begin{bmatrix}\n",
    "                2 & 1 \\\\ 1 & 1\n",
    "            \\end{bmatrix}\n",
    "        \\end{align*}\n",
    "    $$\n",
    "4. $$   \n",
    "        \\begin{align*}\n",
    "            & \\boldsymbol{A} =\n",
    "            \\begin{bmatrix}\n",
    "                2 & -1 \\\\ -1 & 1\n",
    "            \\end{bmatrix}\n",
    "        \\end{align*}\n",
    "    $$"
   ]
  },
  {
   "cell_type": "markdown",
   "metadata": {},
   "source": [
    "##  2.3 Answer \n",
    "\n",
    "Fill the answer here"
   ]
  },
  {
   "cell_type": "markdown",
   "metadata": {},
   "source": [
    "# 3 Adjoint (10)\n",
    "\n",
    "Let \n",
    "$$\n",
    "\\begin{align*}\n",
    "    \\mathsf{A}:~ \\mathbb{R}^n \n",
    "    & \\rightarrow \\mathbb{R}^m \\\\ \n",
    "    \\boldsymbol{x}\n",
    "    & \\mapsto \\boldsymbol{y} = \\boldsymbol{A} \\boldsymbol{x}.\n",
    "\\end{align*}\n",
    "$$\n",
    "\n",
    "The adjoint of the linear operator $\\mathsf{A}$, denoted by $\\mathsf{A}^*$, is defined via \n",
    "$$\n",
    "\\begin{align*}\n",
    "    \\left\\langle \\mathsf{A}(\\boldsymbol{x}),\\boldsymbol{y} \\right\\rangle\n",
    "    & = \\left\\langle \\boldsymbol{x},\\mathsf{A}^*(\\boldsymbol{y}) \\right\\rangle\n",
    "\\end{align*}\n",
    "$$\n",
    "for all $\\boldsymbol{x} \\in \\mathbb{R}^n$ and $\\boldsymbol{y} \\in \\mathbb{R}^m$. \n",
    "\n",
    "It is straightforward to verify that \n",
    "$$\n",
    "\\begin{align*}\n",
    "    & \\mathsf{A}^{*}(\\boldsymbol{y}) = \\boldsymbol{A}^{\\mathsf{T}} \\boldsymbol{y}.\n",
    "\\end{align*}\n",
    "$$\n",
    "\n",
    "\n",
    "\n",
    "**Remark** If $\\mathsf{A}:~\\mathbb{C}^n \\rightarrow \\mathbb{C}^m$, then $\\mathsf{A}$ is generally represented by a matrix $\\boldsymbol{A} \\in \\mathbb{C}^{m \\times n}$. The adjoint of $\\mathsf{A}$, i.e., $\\mathsf{A}^*$, can be represented by $\\boldsymbol{A}^{\\mathsf{H}}$, where the superscript $\\mathsf{H}$ denotes `conjugate transpose'. \n",
    "\n"
   ]
  },
  {
   "cell_type": "markdown",
   "metadata": {},
   "source": [
    "##  3.1  \n",
    "\n",
    "- Consider the linear map given by \n",
    "    $$\n",
    "    \\begin{align*}\n",
    "        & \\boldsymbol{Y} = \\mathsf{C}(\\boldsymbol{X}) = \\boldsymbol{A} \\boldsymbol{X} \\boldsymbol{B}\n",
    "    \\end{align*}\n",
    "    $$\n",
    "\n",
    "    - Find the adjoint of $\\mathsf{C}$ and represent it using matrices $\\boldsymbol{A}$ and $\\boldsymbol{B}$.\n",
    "    - Let $\\boldsymbol{Z} = \\mathsf{C}^*( \\mathsf{C} (\\boldsymbol{X}) )$. \n",
    "       - Find the closed form to compute $\\boldsymbol{Z}$ using $\\boldsymbol{A}$, $\\boldsymbol{B}$, and Kronecker product.\n",
    "       - Find the closed form to compute $\\boldsymbol{Z}$ using $\\boldsymbol{A}$ and $\\boldsymbol{B}$ but not using Kronecker product.\n",
    "       - Compare the above two approaches in terms of time complexity (only consider number of multiplications) and space complexity."
   ]
  },
  {
   "cell_type": "markdown",
   "metadata": {},
   "source": [
    "##   3.1 Answer \n",
    "\n",
    "Fill the answer here"
   ]
  },
  {
   "cell_type": "markdown",
   "metadata": {},
   "source": [
    "#  4 Fibonacci Series (5)\n",
    "\n",
    "The Fibonacci series is defined in a recursive manner:\n",
    "$$\n",
    "\\begin{align*}\n",
    "    & n_1 = 1, \\\\\n",
    "    & n_2 = 1, \\\\\n",
    "    & n_{k+2} = n_k + n_{k+1}.\n",
    "\\end{align*}\n",
    "$$\n",
    "The following lists the first 9 numbers in the Fibonacci series: \n",
    "$$\n",
    "\\begin{align*}\n",
    "    & 1, 1, 2, 3, 5, 8, 13, 21, 34, \\cdots \n",
    "\\end{align*}\n",
    "$$\n",
    "This series often appear in mathematics, computer science, etc. See [Fibonacci_number](https://en.wikipedia.org/wiki/Fibonacci_number) for more detailed discussions. \n",
    "\n",
    "In the following, we discuss different approaches to generate Fibonacci series. To compare the running time of different approaches, use '@btime fib1(40)' (under the package BenchmarkTools) rather than '@time fib1(40)'. The reason is that '@time fib1(40)' includes the compiling time while '@btime fib1(40)' does not include the compiling time, runs the command for several times, and takes the minimum time as the run time. "
   ]
  },
  {
   "cell_type": "markdown",
   "metadata": {},
   "source": [
    "\n",
    "## 4.1 Recursion"
   ]
  },
  {
   "cell_type": "code",
   "execution_count": null,
   "metadata": {},
   "outputs": [],
   "source": [
    "# Recursion\n",
    "function fib1(k)\n",
    "    if k <= 2\n",
    "        return 1\n",
    "    end\n",
    "    return fib1(k-2) + fib1(k-1)\n",
    "end"
   ]
  },
  {
   "cell_type": "markdown",
   "metadata": {},
   "source": [
    "\n",
    "##  4.2 Memoization"
   ]
  },
  {
   "cell_type": "code",
   "execution_count": null,
   "metadata": {},
   "outputs": [],
   "source": [
    "# Memoization\n",
    "function fib2(k)\n",
    "    fibv = zeros(BigInt,k);\n",
    "    fibv[1] = 1; \n",
    "    fibv[2] = 1; \n",
    "    for i in 3:k\n",
    "        fibv[i] = fibv[i-1] + fibv[i-2];\n",
    "    end \n",
    "    return fibv[k];\n",
    "end \n",
    "\n"
   ]
  },
  {
   "cell_type": "markdown",
   "metadata": {},
   "source": [
    "\n",
    "##  4.3 Matrix-vector multiplication\n",
    "\n",
    " Based on that \n",
    "    $$\n",
    "    \\begin{align*}\n",
    "        & \\begin{bmatrix}\n",
    "            n_{k+2} \\\\ n_{k+1}\n",
    "        \\end{bmatrix}\n",
    "        = \\begin{bmatrix}\n",
    "            1 & 1 \\\\\n",
    "            1 & 0\n",
    "        \\end{bmatrix}^k\n",
    "        \\begin{bmatrix}\n",
    "            1 \\\\ 1\n",
    "        \\end{bmatrix}\n",
    "        = \\boldsymbol{A}^k [ n_2, n_1 ]^{\\mathsf{T}}\n",
    "    \\end{align*}\n",
    "    $$\n",
    "    Complete the following function:"
   ]
  },
  {
   "cell_type": "code",
   "execution_count": null,
   "metadata": {},
   "outputs": [],
   "source": [
    "# Matrix-Vector Multiplication\n",
    "function fib3(k)\n",
    "\n",
    "    A = big.([ 1 1; 1 0 ]);\n",
    "    fibv0 = [1; 1];\n",
    "\n",
    "\n",
    "\n",
    "    # fill the contents here \n",
    "    fibvk = \n",
    "    return fibvk[1];\n",
    "end \n",
    "\n"
   ]
  },
  {
   "cell_type": "markdown",
   "metadata": {},
   "source": [
    "\n",
    "##  4.4 Matrix decomposition\n",
    "\n",
    " Using eigen-decomposition of the matrix $\\boldsymbol{A}$, we can speed up the generation of Fibonacci series further. \n",
    "\n",
    "   Let $\\boldsymbol{\\Lambda} = [\\lambda_1,\\lambda_2]^{\\mathsf{T}}$ be the eigenvalue vector, and $\\boldsymbol{V} = [\\boldsymbol{v}_1,\\boldsymbol{v}_2]$ be the corresponding eigenvector matrix. Write $\\boldsymbol{A}^k$ in terms of $\\boldsymbol{\\Lambda}$ and $\\boldsymbol{V}$. \n",
    "  \n",
    "  Complete the following functions:"
   ]
  },
  {
   "cell_type": "code",
   "execution_count": null,
   "metadata": {},
   "outputs": [],
   "source": [
    "# Matrix Decomposition\n",
    "function fib4(k)\n",
    "    A = [ 1 1; 1 0 ];\n",
    "    fibv0 = [1; 1];\n",
    "    Lambda, V = eigen(A); \n",
    "    # display(Lambda)\n",
    "    # display(V)\n",
    "    \n",
    "\n",
    "    # fill the contents here \n",
    "    \n",
    "    Ak =  \n",
    "    fibvk = \n",
    "\n",
    "    return BigInt(round(fibvk[1]));\n",
    "end "
   ]
  },
  {
   "cell_type": "markdown",
   "metadata": {},
   "source": [
    "##  4.5 Compare the above four algorithms \n"
   ]
  },
  {
   "cell_type": "code",
   "execution_count": null,
   "metadata": {},
   "outputs": [],
   "source": [
    "# Test for fib\n",
    "fibM = zeros(BigInt,3,4);\n",
    "\n",
    "println(\"\\nRecursion\")\n",
    "@btime fibM[1,1] = fib1(10)\n",
    "@btime fibM[2,1] = fib1(20)\n",
    "@btime fibM[3,1] = fib1(30)\n",
    "\n",
    "println(\"\\nMemoizaton\")\n",
    "@btime fibM[1,2] = fib2(10)\n",
    "@btime fibM[2,2] = fib2(100)\n",
    "@btime fibM[3,2] = fib2(1000)\n",
    "\n",
    "println(\"\\nMatrix Vector Multiplication\")\n",
    "\n",
    "\n",
    "# fill the contents here \n",
    "\n",
    "\n",
    "\n",
    "println(\"\\nMatrix Eigen-Decomposition\")\n",
    "\n",
    "\n",
    "# fill the contents here \n"
   ]
  },
  {
   "cell_type": "markdown",
   "metadata": {},
   "source": [
    "#  5 Page rank (15)\n",
    "\n",
    "\n",
    " This example is linked to Google PageRank example discussed in Example exa:GooglePageRank.\n"
   ]
  },
  {
   "cell_type": "markdown",
   "metadata": {},
   "source": [
    "  ##  5.1 (5)\n",
    "\n",
    "   Let \n",
    "    $$\n",
    "        \\begin{align*}\n",
    "            \\bm{A} = \\begin{bmatrix}\n",
    "                5 & 3 \\\\\n",
    "                2 & 6\n",
    "            \\end{bmatrix}.\n",
    "        \\end{align*}\n",
    "    $$\n",
    "    Show that $\\bm{A}$ has an eigenvalue $8$ and the corresponding eigenvector is $$\\bm{v} = [1,1]^{\\mathsf{T}}.$$ \n",
    "    \n",
    "\n",
    "Use [Julia > LinearAlgebra > eigen] to numerically compute the eigenvalues and eigenvectors of $\\bm{A}$. Verify the above claim. \n",
    "\n",
    "Note that the two eigenvectors are linearly independent but not orthogonal. \n",
    "\n",
    "    "
   ]
  },
  {
   "cell_type": "markdown",
   "metadata": {},
   "source": [
    "##   5.1 Answer \n",
    "\n",
    "Fill the answer here"
   ]
  },
  {
   "cell_type": "markdown",
   "metadata": {},
   "source": [
    "  ##  5.2 (5)\n",
    "\n",
    " Let $\\bm{A} \\in \\mathbb{R}^{n \\times n}$ be a square matrix such that the sum of every row is the same, i.e.,\n",
    "  $$ \n",
    "    \\begin{align*}\n",
    "        c = \\sum_j A_{i,j}, \\quad \\forall i.\n",
    "    \\end{align*}\n",
    "  $$\n",
    "Show that $\\bm{A}$ has an eigenvalue $c$ and the corresponding eigenvector is $\\bm{v} = [1,1,\\cdots,1]^{\\mathsf{T}}$. \n",
    "\n",
    " "
   ]
  },
  {
   "cell_type": "markdown",
   "metadata": {},
   "source": [
    "##   5.2 Answer \n",
    "\n",
    "Fill the answer here"
   ]
  },
  {
   "cell_type": "markdown",
   "metadata": {},
   "source": [
    "##  5.3 (5)\n",
    "    \n",
    "Suppose that the eigenvalues and eigenvectors of $\\bm{A}$ are given by $\\lambda_1,\\cdots,\\lambda_n$, and $\\bm{q}_1,\\cdots,\\bm{q}_n$, respectively. \n",
    "    \n",
    "Let $\\bm{\\Lambda} = \\text{diag}\\left([\\lambda_1,\\cdots,\\lambda_n]\\right)$ and $\\bm{Q} = [\\bm{q}_1,\\cdots,\\bm{q}_n]$. It can be verified that \n",
    "   $$\n",
    "    \\begin{align*}\n",
    "        \\bm{A} \\bm{Q} = \\bm{Q} \\bm{\\Lambda} \\Rightarrow \\bm{A} = \\bm{Q} \\bm{\\Lambda} \\bm{Q}^{-1}.\n",
    "    \\end{align*}\n",
    "    $$\n",
    "    \n",
    "Now let $\\bm{B} = \\bm{A}^{\\mathsf{T}}$. Denote the eigenvalues and eigenvectors of $\\bm{B}$ by $\\lambda_{B,1},\\cdots,\\lambda_{B,n}$, and $\\bm{q}_{B,1},\\cdots,\\bm{q}_{B,n}$, respectively. Let $\\bm{\\Lambda}_B = \\text{diag}\\left([\\lambda_{B,1},\\cdots,\\lambda_{B,n}]\\right)$ and $\\bm{Q}_B = [\\bm{q}_{B,1},\\cdots,\\bm{q}_{B,n}]$.\n",
    "\n",
    "What can you say about the relationship between $\\bm{\\Lambda}$ and $\\bm{\\Lambda}_B$, and that between $\\bm{Q}$ and $\\bm{Q}_B$? \n",
    "\n",
    "\n",
    "Remark: With the above, you can prove that the adjacent matrix in the Google PageRank example has an eigenvalue 1. (No need to prove)"
   ]
  },
  {
   "cell_type": "markdown",
   "metadata": {},
   "source": [
    "##   5.3 Answer \n",
    "\n",
    "Fill the answer here"
   ]
  },
  {
   "cell_type": "markdown",
   "metadata": {},
   "source": [
    "# 6 Numerical Stability (15)\n",
    "\n",
    "\n",
    "Consider the model \n",
    "$$\n",
    "\\begin{equation*}\n",
    "    \\boldsymbol{y} =  \\boldsymbol{A}  \\boldsymbol{x}_0 +  \\boldsymbol{w},\n",
    "\\end{equation*}\n",
    "$$\n",
    "where $ \\boldsymbol{x}_0$ is the ground truth signal and $ \\boldsymbol{w} \\sim \\mathcal{N}( \\boldsymbol{0},\\sigma^2  \\boldsymbol{I})$. \n",
    "\n",
    "Assume that $\\ \\boldsymbol{A}$ is tall and has full rank. Consider the compact SVD $ \\boldsymbol{A} =  \\boldsymbol{U}  \\boldsymbol{\\Sigma}  \\boldsymbol{V}^{\\mathsf{T}}$.\n",
    "\n",
    "The least squares solution is given by \n",
    "\\begin{align*}\n",
    "    \\hat{\\bm{x}} \n",
    "    & = \\bm{A}^{\\dagger} \\bm{y} = \\bm{A}^{\\dagger} \\left(\\bm{A} \\bm{x}_0 + \\bm{w}\\right) \\\\\n",
    "    & = (\\bm{A}^{\\mathsf{T}} \\bm{A})^{-1} \\bm{A}^{\\mathsf{T}} \\left(\\bm{A} \\bm{x}_0 + \\bm{w}\\right) \\\\\n",
    "    & = \\bm{x}_0 + \\bm{V} \\bm{\\Sigma}^{-1} \\bm{U}^{\\mathsf{T}} \\bm{w}.  \n",
    "\\end{align*}\n",
    "Hence, \n",
    "\\begin{equation*}\n",
    "    \\| \\hat{\\bm{x}} - \\bm{x}_0 \\|_2 = \\| \\bm{V} \\bm{\\Sigma}^{-1} \\bm{U}^T \\bm{w} \\|_2. \n",
    "\\end{equation*}\n",
    "The estimation error $\\| \\hat{\\bm{x}} - \\bm{x}_0 \\| $ can be then bounded by using the following steps:\n",
    "\n"
   ]
  },
  {
   "cell_type": "markdown",
   "metadata": {},
   "source": [
    "## 6.1 (3)\n",
    "\n",
    "Show that $\\Vert \\bm{V} \\bm{z} \\Vert^2 = \\Vert \\bm{z} \\Vert^2$, $\\forall \\bm{z} \\in \\mathbb{R}^n$"
   ]
  },
  {
   "cell_type": "markdown",
   "metadata": {},
   "source": [
    "## 6.1 Answer \n",
    "\n",
    "Fill the Answer here.\n"
   ]
  },
  {
   "cell_type": "markdown",
   "metadata": {},
   "source": [
    "## 6.2 (3)\n",
    "\n",
    "Show that $\\forall \\bm{z} \\in \\mathbb{R}^n$,\n",
    "\n",
    "\\begin{align*}\n",
    "    & \\sigma_{\\max}^{-1} \\| \\bm{z} \\| \\le \\| \\bm{\\Sigma}^{-1} \\bm{z} \\| \\le \\sigma_{\\min}^{-1} \\| \\bm{z} \\|. \n",
    "\\end{align*}"
   ]
  },
  {
   "cell_type": "markdown",
   "metadata": {},
   "source": [
    "## 6.2 Answer \n",
    "\n",
    "Fill the Answer here.\n"
   ]
  },
  {
   "cell_type": "markdown",
   "metadata": {},
   "source": [
    "## 6.3 (3) \n",
    "\n",
    " Show that\n",
    "\\begin{align*}\n",
    "    & 0 \\le \\| \\bm{U}^{\\mathsf{T}}\\bm{w} \\| \\le \\| \\bm{w} \\|,\n",
    "\\end{align*}\n",
    "and \n",
    "\\begin{align*}\n",
    "    & \\text{E}[ \\| \\bm{U}^{\\mathsf{T}}\\bm{w} \\|^2 ] = n \\sigma^2. \n",
    "\\end{align*}"
   ]
  },
  {
   "cell_type": "markdown",
   "metadata": {},
   "source": [
    "## 6.3 Answer \n",
    "\n",
    "Fill the Answer here."
   ]
  },
  {
   "cell_type": "markdown",
   "metadata": {},
   "source": [
    "## 6.4 (6)\n",
    "Combine the results above, you should be able to derive bounds on $\\| \\hat{\\bm{x}} - \\bm{x}_0 \\|$ (in terms of $\\| \\bm{w} \\|$) and $\\text{E}[\\| \\hat{\\bm{x}} - \\bm{x}_0 \\|^2]$ (in terms of $\\sigma^2$). "
   ]
  },
  {
   "cell_type": "markdown",
   "metadata": {},
   "source": [
    "## 6.4 Answer \n",
    "\n",
    "Fill the Answer here."
   ]
  },
  {
   "cell_type": "markdown",
   "metadata": {},
   "source": [
    "\n",
    "# 7 Proximal operator for $|\\cdot|_{l_0} $ (5)\n",
    "\n",
    "Let $f(\\bm{x}) = \\| \\bm{x} \\|_0$.\n",
    " \n",
    "\n",
    "\n"
   ]
  },
  {
   "cell_type": "markdown",
   "metadata": {},
   "source": [
    "##   7.1 \n",
    "\n",
    "Find the corresponding Moreau envelope $\\mathcal{M}_{\\gamma f}(\\bm{z})$ and proximal operator $\\text{Prox}_{\\gamma f}(\\bm{z})$ for some $\\bm{z}\\in \\mathbb{R}^n$.\n",
    "Discuss the continuity of them.\n",
    "Discuss how the parameter $\\gamma$ affects the solutions. \n",
    "\n",
    "\n",
    "If you have difficulties in solving this problem, the following simplified case may give you clues.\n",
    "\n",
    "Consider the scalar case, i.e., $x \\in \\mathbb{R}$. One has $f(x) = 0$ if $x=0$ and $f(x)=1$ if $x \\ne 0$. Let $\\gamma =1$.\n",
    "Then \n",
    "$$\n",
    "\\begin{align*}\n",
    "    \\mathcal{M}_{\\| \\cdot \\|_0}(z) = \\min_x~ \\| x \\|_0 + \\frac{1}{2}(x-z)^2. \n",
    "\\end{align*}\n",
    "$$\n",
    "\n",
    " Show that \n",
    " $$\n",
    "    \\begin{align*}\n",
    "        & \\mathcal{M}_{\\| \\cdot \\|_0}(z) \\le \\| z \\|_0 + \\frac{1}{2}(z-z)^2 \\le 1.\n",
    "    \\end{align*}\n",
    "$$\n",
    " For $z = 0, 1, 2$, find $\\mathcal{M}_{\\| \\cdot \\|_0}(z)$ and $x^{\\star} = \\text{Prox}_{\\| \\cdot \\|_0}(z)$ respectively. "
   ]
  },
  {
   "cell_type": "markdown",
   "metadata": {},
   "source": [
    "##   7.1 Answer \n",
    "\n",
    "Fill the answer here"
   ]
  },
  {
   "cell_type": "markdown",
   "metadata": {},
   "source": [
    "\n",
    "# 8 Compressed Sensing of Multi-tone Audio Signal (25)\n",
    "\n",
    "The DFT of $\\boldsymbol{x} \\in \\mathbb{C}^N$ can be defined as \n",
    "$$\n",
    "\\begin{align*}\n",
    "    & \\boldsymbol{X} \n",
    "    = \\mathsf{F}(\\boldsymbol{x}) \n",
    "    = \\boldsymbol{F}(\\boldsymbol{x})\n",
    "    \\in \\mathbb{C}^N,\n",
    "\\end{align*}\n",
    "$$\n",
    "\n",
    "where\n",
    "$$ \n",
    "\\begin{align*}\n",
    "    & X[k] = \\sum_{n=1}^{N} \n",
    "    \\exp\\left\\{-2\\pi j (n-1)(k-1)/N\\right\\},\n",
    "\\end{align*}\n",
    "$$\n",
    "the matrix $\\boldsymbol{F}$ is given by \n",
    "$$\n",
    "\\begin{align*}\n",
    "    & \\boldsymbol{F}_{p,q} = \\exp\\left\\{-j \\frac{2\\pi}{N} (p-1)(q-1)\\right\\},\n",
    "\\end{align*}\n",
    "$$\n",
    "and $\\boldsymbol{F}_{p,q}$ denotes the element in the $p$-th row and $q$-th column of $\\boldsymbol{F}$. \n",
    "\n",
    "The inverse DFT of $\\boldsymbol{X} \\in \\mathbb{C}^N$ is therefore defined as\n",
    "$$ \n",
    "\\begin{align*}\n",
    "    & \\boldsymbol{x} \n",
    "    = \\mathsf{F}^{-1} (\\boldsymbol{X}) \n",
    "    = \\boldsymbol{F}^{-1}(\\boldsymbol{X})\n",
    "    \\in \\mathbb{C}^N,\n",
    "\\end{align*} \n",
    "$$\n",
    "where the matrix $\\boldsymbol{F}^{-1}$ is explicitly given by \n",
    "$$\n",
    "\\begin{align*}\n",
    "    & (\\boldsymbol{F}^{-1})_{p,q} = \\frac{1}{N} \\exp\\left\\{j \\frac{2\\pi}{N} (p-1)(q-1)\\right\\}.\n",
    "\\end{align*}\n",
    "$$"
   ]
  },
  {
   "cell_type": "markdown",
   "metadata": {},
   "source": [
    "\n",
    "## 8.1 Complete the following codes for generating DFT matrix and inverse DFT matrix. (5)"
   ]
  },
  {
   "cell_type": "code",
   "execution_count": null,
   "metadata": {},
   "outputs": [],
   "source": [
    "function dft_matrix(N::Int64)\n",
    "    dftM = Array{ComplexF64,2}(undef,N,N);\n",
    "    dftMinv = copy(dftM); \n",
    "        \n",
    "\n",
    "\n",
    "    for q in 1:N \n",
    "        # fill the contents here \n",
    "    end\n",
    "    dftMinv = dftMinv/N; \n",
    "\n",
    "    \n",
    "\n",
    "    return dftM,dftMinv\n",
    "end\n",
    "\n",
    "# Test dft_matrix and fft \n",
    "N = 4096; \n",
    "dftM,dftMinv = dft_matrix(N);\n",
    "\n",
    "x = randn(ComplexF64,N); \n",
    "println(\"test for correctness\");\n",
    "@show norm( dftM*x - fft(x) );\n",
    "@show norm( dftMinv*x - ifft(x) );\n",
    "\n",
    "println(\"runing time comparison\");\n",
    "@btime dftM * x; \n",
    "@btime fft(x); "
   ]
  },
  {
   "cell_type": "markdown",
   "metadata": {},
   "source": [
    "The codes below will be used for the rest of the problem."
   ]
  },
  {
   "cell_type": "code",
   "execution_count": null,
   "metadata": {},
   "outputs": [],
   "source": [
    "\n",
    "Random.seed!(42)\n",
    "\n",
    "N = 256; \n",
    "dftM,dftMinv = dft_matrix(N);\n",
    "\n",
    "x = 1.2 * cos.( 2*pi*31/N * collect(0:N-1) );  \n",
    "x += - 2.1 * sin.( 2*pi*41/N * collect(0:N-1) ); \n",
    "x += 0.7 * cos.( 2*pi*59/N * collect(0:N-1) .+ 0.9 );\n",
    "X = dftM * x; \n",
    "\n",
    "\n",
    "\n",
    "\n",
    "M = 64; \n",
    "Omega = sample(collect(1:N),M);\n",
    "Omega = sort(Omega); \n",
    "\n",
    "y = x[Omega]; \n",
    "\n",
    "\n",
    "\n",
    "# fig_x = Figure()\n",
    "# ax_x = Axis(fig_x[0, 1],\n",
    "#     title = \"Frequency Sparse Signal\",\n",
    "#     xlabel = \"n\",\n",
    "#     ylabel = \"x[n]\"\n",
    "# )\n",
    "# lines!(ax_x, collect(0:N-1), x)\n",
    "# lines!(ax_x, collect(0:N-1), xhat_LS)\n",
    "# fig_x\n",
    "\n",
    "# fig_x_spect = Figure()\n",
    "# ax_x_spect = Axis(fig_x_spect[1, 1],\n",
    "#     title = \"Frequency Sparse Signal\",\n",
    "#     xlabel = \"f\",\n",
    "#     ylabel = \"|X(f)|\"\n",
    "# )\n",
    "# lines!(ax_x_spect, collect(0:N-1)/N, abs.(X))\n",
    "# lines!(ax_x_spect, collect(0:N-1)/N, abs.(dftM * xhat_LS))\n",
    "# fig_x_spect"
   ]
  },
  {
   "cell_type": "markdown",
   "metadata": {},
   "source": [
    "## 8.2 Least Squares (5)\n",
    "\n",
    "Consider the Least squares problem:\n",
    " $$\n",
    "       \\hat{\\boldsymbol{x}} = \\arg~\\min_{\\boldsymbol{x} } ~ \\| \\bm{y} - \\mathcal{P}_{\\Omega} (\\bm{x}) \\|_2^2\n",
    "$$ \n",
    "where $ \\mathcal{P}_{\\Omega} $ is the projection operator to the observed subset $\\Omega $. \n",
    "\n",
    "Solve the least squares problem and present your result with code and figure."
   ]
  },
  {
   "cell_type": "markdown",
   "metadata": {},
   "source": [
    "## 8.3 Sparse Recovery\n",
    "\n",
    "If you check the results gotten above, you will find the mismatch with the ground truth data, which is sparse in frequency domain.\n",
    "\n",
    "For the same data provided above, we are going to solve it with sparse regularization by two greedy algorithms (SP,OMP) in the following subproblems.\n",
    "$$\n",
    "       \\min_{\\bm{X}}~ \\delta \\left( \\| \\bm{X} \\|_0 \\le 6 \\right) + \\frac{\\alpha}{2} \\| \\bm{y} - \\mathcal{P}_{\\Omega} \\bm{F}^{-1} (\\bm{X}) \\|_2^2\n",
    "$$"
   ]
  },
  {
   "cell_type": "markdown",
   "metadata": {},
   "source": [
    "### 8.3.1 Linear Operator \n",
    "\n",
    "Define the linear Operator $\\mathcal{L}=\\mathcal{P}_{\\Omega} \\bm{F}^{-1}$. \n",
    "\n",
    "Write the Julia code to define $\\mathcal{L}$, which could be in a matrix form or a linear map form (you can refer to LinearMaps.jl), to be implemented in following algorithms. "
   ]
  },
  {
   "cell_type": "markdown",
   "metadata": {},
   "source": [
    "### 8.3.2 Implement SP to Solve Sparse Recovery (5)\n",
    "\n",
    "\n",
    "\n"
   ]
  },
  {
   "cell_type": "code",
   "execution_count": null,
   "metadata": {},
   "outputs": [],
   "source": [
    "\n",
    "# Complete the function below, where \n",
    "#  S is the sparsity indicator \n",
    "#  L is the linear operator defined above \n",
    "#  y the sampled signal\n",
    "#  x_hat is the return of the function and should be a good estimation of x\n",
    "\n",
    "function SP(S, L, y) \n",
    " \n",
    "    return x_hat\n",
    "end"
   ]
  },
  {
   "cell_type": "markdown",
   "metadata": {},
   "source": [
    "### 8.3.3 Implement OMP to Solve Sparse Recovery (5)"
   ]
  },
  {
   "cell_type": "code",
   "execution_count": null,
   "metadata": {},
   "outputs": [],
   "source": [
    "# Complete the function below, where \n",
    "#  S is the sparsity indicator \n",
    "#  L is the linear operator defined above \n",
    "#  y the sampled signal\n",
    "#  x_hat is the return of the function and should be a good estimation of x\n",
    "\n",
    "function OMP(S, L, y) \n",
    " \n",
    "    return x_hat\n",
    "end"
   ]
  },
  {
   "cell_type": "markdown",
   "metadata": {},
   "source": [
    "Please compare and present your recovery signal briefly. "
   ]
  },
  {
   "cell_type": "markdown",
   "metadata": {},
   "source": [
    "## 8.4 Test with unknown Ground Truth (5)\n",
    "\n",
    "In last two parts, you have tried different signal recovery methods. You could check your estimations via different approaches. \n",
    "\n",
    "In this part, given the similar settings, the target signal $\\boldsymbol{x}_1$ to be recoveried is composed with $3$ components in dimension $N=256$, while it is not known to you guys. The signal is sampled by the projection operator $\\mathcal{P}_{\\Omega}$ defined above to get $\\boldsymbol{y}_1$. \n",
    "\n",
    "Load the data(y1.jld2), and recovery the signal (you are free to choose from different methods, but just submit one!). "
   ]
  },
  {
   "cell_type": "code",
   "execution_count": null,
   "metadata": {},
   "outputs": [],
   "source": [
    "\n",
    "\n",
    "\n",
    "y1=JLD2.load(\"y1.jld2\",\"y1\")\n",
    "\n",
    "\n",
    "\n",
    "# fig_x_spect = Figure()\n",
    "# ax_x_spect = Axis(fig_x_spect[1, 1],\n",
    "#     title = \"Frequency Sparse Signal\",\n",
    "#     xlabel = \"f\",\n",
    "#     ylabel = \"|X(f)|\"\n",
    "# )\n",
    "# lines!(ax_x_spect, collect(0:N-1)/N, abs.(X1))\n",
    "# lines!(ax_x_spect, collect(0:N-1)/N, abs.(dftM * xhat_LS))\n",
    "# fig_x_spect"
   ]
  }
 ],
 "metadata": {
  "kernelspec": {
   "display_name": "Julia 1.6.3",
   "language": "julia",
   "name": "julia-1.6"
  },
  "language_info": {
   "file_extension": ".jl",
   "mimetype": "application/julia",
   "name": "julia",
   "version": "1.6.1"
  },
  "orig_nbformat": 4,
  "vscode": {
   "interpreter": {
    "hash": "e0de548ffb181fe2a01b2ed5f402e6bb6e6ccf2641efffae0817d36d41e1e10e"
   }
  }
 },
 "nbformat": 4,
 "nbformat_minor": 2
}
