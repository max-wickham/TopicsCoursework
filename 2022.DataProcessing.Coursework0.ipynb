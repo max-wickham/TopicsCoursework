{
 "cells": [
  {
   "cell_type": "markdown",
   "metadata": {},
   "source": [
    "# Coursework 0\n",
    "\n",
    "The coursework is based on Jupyter Notebook. It will involve question answering and programming using Markdown (LaTeX) and Julia language."
   ]
  },
  {
   "cell_type": "markdown",
   "metadata": {},
   "source": [
    "# 1 Coursework \n",
    "\n",
    "## 0.1 Schedule\n",
    "\n",
    "| Task             | Due Date           |\n",
    "| ------------     | ----------------   |\n",
    "| **Coursework 1** |                    |\n",
    "| Assignment       | (Week 3) 17/10     |\n",
    "| Due              | (Week 5) 30/10 16:00    |\n",
    "| Feedback         | (Week 6) 07/11     |\n",
    "| **Coursework 2** |                    |\n",
    "| Assignment       | (Week 5) 30/10     |\n",
    "| Due              | (Week 7) 14/11 16:00    |\n",
    "| Feedback         | (Week 8) 21/11     |\n",
    "| **Form Group**   |                    |\n",
    "| 1st Choice       | (Week 7) 14/11     |\n",
    "| 2nd Choice       | (Week 7) 16/11     |\n",
    "| **Coursework 3** |                    |\n",
    "| Assignment       | (Week 7) 14/11     |\n",
    "| Due              | (Week 9) 28/11 16:00   |\n",
    "| Feedback         | (Week 10) 05/12    |\n",
    "| **Coursework 4** |                    |\n",
    "| Assignment       | (Week 7) 14/11     |\n",
    "| Topic Decided    | (Week 8) 21/11     |\n",
    "| Due              | (Week 11) 12/12 9:00   |\n",
    "| Presentation     | 12-14/12 Room 611  |\n",
    "| Feedback         | Hopefully 19/12    |\n",
    "\n",
    "* Coursework 1: 25%\n",
    "* Coursework 2: 25%\n",
    "* Coursework 3: 25%\n",
    "* Coursework 4: 25%"
   ]
  },
  {
   "cell_type": "markdown",
   "metadata": {},
   "source": [
    "### 0.1.2 Coursework Groups\n",
    "\n",
    "Students are expected to work in groups (typically 3 or 4 students) so that they can learn from each other. Discussions and collaborations within the group are highly encouraged. \n",
    "\n",
    "Coursework 1-2: GTAs will assign groups randomly. \n",
    "Coursework 3-4: Students form their own groups."
   ]
  },
  {
   "cell_type": "markdown",
   "metadata": {},
   "source": [
    "### 0.1.3 Coursework Marking\n",
    "\n",
    "The marking scheme uses the following formula:\n",
    "$$\n",
    "    \\begin{align}\n",
    "        x_i & = t_g^a \\left( \\frac{t_i}{t_g} \\frac{m_i}{t_i} \\right)\\\\\n",
    "        & = \\left( \n",
    "            \\frac{1}{\\ln\\left(1+\\frac{1}{\\beta}\\right)}\n",
    "            \\ln\\left(1+\\frac{t_g/100}{\\beta}\\right) 100\n",
    "        \\right) \n",
    "        \\frac{m_i}{t_g} \n",
    "    \\end{align}\n",
    "$$\n",
    "where \n",
    "* $x_i$: the mark for an individual student,\n",
    "* $t_g^a$: the adjusted total efforts from a group, (adjusted based on the group size)\n",
    "* $t_i$: the mark of all the problems that the individual student has tried, i.e., the total efforts from the individual student, \n",
    "* $t_g$: the mark of all the problems that the group has tried, i.e., the total efforts from the group,\n",
    "* $m_i$: the mark obtained from the problems that the individual student has correctly answered, \n",
    "* $\\frac{m_i}{t_i}$: the quality of the individual student's work, \n",
    "* $\\beta$: a hyperparameter to nonlinearly adjust the total efforts from the group based on its size. \n",
    "\n",
    "The following table lists the hyperparameter $\\beta$ as a function of the size of the group.\n",
    "| # of people in the group | 1 | 2 | 3 | 4 |\n",
    "| ---- | ---- | ---- | ---- | ----- |\n",
    "| $\\beta$ | 0.5 | 1.25 | 6.0 | 20.0 |\n",
    "\n",
    "The following figure illustrates the adjustment curves for different $\\beta$. \n",
    "![Adjustment Curves](Mark_logbeta_fitting.png)"
   ]
  },
  {
   "cell_type": "markdown",
   "metadata": {},
   "source": [
    "## 0.2 Software for Coursework Reporting\n",
    "\n",
    "The software that you need to install/have    \n",
    "\n",
    "* Package management software *Anaconda*. By default, it will install Python and *Jupyter Notebook* to your system. \n",
    "* Programming language *Julia*. \n",
    "* *VSCode* as your default editor. It supports *Jupyter Notebook* and *Julia* directly.  \n",
    "\n",
    "1. Jupyter Notebook: Download and install `Anaconda` from [here](https://www.anaconda.com/products/individual) and use its default setting. By default, it will install `Python` and `Jupyter Notebook` to your system.    \n",
    "2. Julia: Download and install the current stable version of Julia from [here](https://julialang.org/downloads/)     \n",
    "   1. Check whether Julia has been installed properly: Run Julia interactive session (a.k.a. **REPL**) by following the instructions at [the getting started webpage](https://docs.julialang.org/en/v1/manual/getting-started/). \n",
    "3. VSCode: \n",
    "   1. Download and install VSCode [here](https://code.visualstudio.com/).\n",
    "   2.  We need to install some extensions for VSCode. See [here](https://code.visualstudio.com/docs/editor/extension-marketplace) for how to install VSCode extensions. \n",
    "   3.  Anaconda should have automatically installed VSCode Extensions `Python` and `Pylance` for you. If not, install them. \n",
    "   4.  Install extension `Julia` for Julia programming in VSCode. See [here](https://www.julia-vscode.org/) and [here](https://www.julia-vscode.org/docs/stable/) for more details. "
   ]
  },
  {
   "cell_type": "markdown",
   "metadata": {},
   "source": [
    "### 0.2.1 Julia for Programming"
   ]
  },
  {
   "cell_type": "markdown",
   "metadata": {},
   "source": [
    "### Introduction to Julia\n",
    "\n",
    "**What is Julia Language**\n",
    "\n",
    "\"Julia is a high-level, dynamic programming language. Its features are well suited for numerical analysis and computational science.\" (From Wikipedia)\n",
    "\n",
    "See [Julia Language Website](https://julialang.org/) for details. \n",
    "\n",
    "**Why Julia**\n",
    "\n",
    "See [a Nature article](https://www.nature.com/articles/d41586-019-02310-3) and [a blog](https://julialang.org/blog/2022/02/10years/).\n",
    "\n",
    "**Install and run Julia**\n",
    "\n",
    "Download the current stable version [here](https://julialang.org/downloads/)\n",
    "\n",
    "Run Julia interactive session (a.k.a. **REPL**) by following the instructions at [the getting started webpage](https://docs.julialang.org/en/v1/manual/getting-started/).\n",
    "\n",
    "**Getting Started with Julia**\n",
    "\n",
    "* A collection of short tutorials about Julia can be found [here](https://julialang.org/learning/tutorials/)\n",
    "* [Introduction to Scientific Programming and Machine Learning with Julia](https://sylvaticus.github.io/SPMLJ/stable/)\n",
    "* A tutorial in pdf format [here](https://www.sas.upenn.edu/~jesusfv/Chapter_HPC_8_Julia.pdf)\n"
   ]
  },
  {
   "cell_type": "markdown",
   "metadata": {},
   "source": [
    "#### 0.2.1.1 Julia Packages\n",
    "\n",
    "For the coursework, we will need several Julia packages. \n",
    "\n",
    "In the Julia REPL, enter the package manager by pressing `]`.   \n",
    "To get back to the Julia REPL, press backspace or ^C. \n",
    "\n",
    "Upon entering the package manager environment, you can \n",
    "\n",
    "* use `status` to get all the package information\n",
    "* use `add LinearAlgebra` to add the package `LinearAlgebra`\n",
    "* use `rm LinearAlgebra` to remove the package `LinearAlgebra`\n",
    "* use `update LinearAlgebra` to update the package `LinearAlgebra`\n",
    "\n",
    "The following contains packages that you may need for the coursework\n",
    "\n",
    "* JLD2\n",
    "* Random\n",
    "* StatsBase\n",
    "* Plots\n",
    "* ... "
   ]
  },
  {
   "cell_type": "markdown",
   "metadata": {},
   "source": [
    "#### 0.2.1.2 Tips in Julia Programming\n",
    "\n",
    "##### Matrix Operations\n",
    "\n",
    "Julia has native support for matrices and arrays. The following example gives several frequently used commands and some commands that may be confusing for beginners. "
   ]
  },
  {
   "cell_type": "code",
   "execution_count": 1,
   "metadata": {},
   "outputs": [
    {
     "name": "stdout",
     "output_type": "stream",
     "text": [
      "b = randn(Float64, 2) = [0.2972879845354616, 0.3823959677906078]\n",
      "A = randn(Float64, 2, 2) = [-0.5976344767282311 -0.839026854388764; -0.01044524463737564 0.31111133849833383]\n",
      "x = A \\ b = [-2.122965560745141, 1.1578526031568297]\n",
      "A = [0.2 -0.839026854388764; -0.01044524463737564 0.31111133849833383]\n",
      "B = [0.2 -0.839026854388764; -0.01044524463737564 0.31111133849833383]\n",
      "C = [0.2 -0.839026854388764; -0.01044524463737564 0.31111133849833383]\n",
      "a = A[:] = [0.2, -0.01044524463737564, -0.839026854388764, 0.31111133849833383]\n",
      "Indx = findall(a .< 0) = [2, 3]\n",
      "v = StepRange{Int64, Int64}[1:2:9]\n",
      "u = 1:2:9\n",
      "w = [1, 3, 5, 7, 9]\n"
     ]
    }
   ],
   "source": [
    "using Random\n",
    "Random.seed!(1);\n",
    "\n",
    "@show b = randn(Float64,2);\n",
    "@show A = randn(Float64,2,2);\n",
    "@show x = A\\b;\n",
    "\n",
    "B = A;          # Here B is actually only a pointer to the matrix A\n",
    "B[1,1] = 0.2;   # This command change the content of A! \n",
    "C = copy(A);    # Use copy to duplicate the matrix A to a new matrix C\n",
    "C[1,1] = 0.2;\n",
    "@show A;\n",
    "@show B;\n",
    "@show C;\n",
    "\n",
    "@show a = A[:];\n",
    "@show Indx = findall( a .< 0);\n",
    "\n",
    "v = [1:2:9];    # This command may look familar for Matlab users. But the output of the command is quite different from that in Matlab. In Matlab, [1:2:9] produces a vector [1,3,5,7,9]. In Julia, it does not. In order to produce [1:2:9], one needs to write collect(1:2:9), as shown below.  \n",
    "@show v; \n",
    "u = 1:2:9\n",
    "@show u; \n",
    "w = collect(u); # The command collect is quite useful\n",
    "@show w;"
   ]
  },
  {
   "cell_type": "markdown",
   "metadata": {},
   "source": [
    "##### Input Unicode\n",
    "\n",
    "Type `\\sigma`, then hit `TAB` and it should change to `σ`. One nice feature of Julia is that it allows unicode characters to define variables. "
   ]
  },
  {
   "cell_type": "code",
   "execution_count": 2,
   "metadata": {},
   "outputs": [
    {
     "name": "stdout",
     "output_type": "stream",
     "text": [
      "α = sqrt(2) = 1.4142135623730951\n",
      "area = π * (r / α) ^ 2 = 25.132741228718338\n"
     ]
    }
   ],
   "source": [
    "@show α = sqrt(2);\n",
    "r = 4; \n",
    "@show area = π * (r/α)^2;"
   ]
  },
  {
   "cell_type": "markdown",
   "metadata": {},
   "source": [
    "##### Writing/Programming Style\n",
    "\n",
    "* Modular programming whenever possible to make your code easier to read and test.\n",
    "* Separate the parts for numerical tests and result illustration.\n",
    "\n",
    "##### Deactivate Time-Consuming Codes\n",
    "\n",
    "Parts of your code may take a long time to run. To allow efficient assessment, you need to deactivate the time-consuming parts of the code, but still show assessors your results. This can be achieved by the following three steps. \n",
    "\n",
    "1. Run your code which will generate simulation results. \n",
    "2. Save your results to files. Write code to load the simulation results from the files and do result illustration. \n",
    "3. Deactivate the time-consuming parts of your code and the code to save data. \n",
    "\n",
    "An example is shown below. "
   ]
  },
  {
   "cell_type": "code",
   "execution_count": 3,
   "metadata": {},
   "outputs": [
    {
     "data": {
      "text/plain": [
       "10×2 Matrix{Float64}:\n",
       " 3.9989e-6   4.00175e-6\n",
       " 0.00305614  0.00307752\n",
       " 0.00306488  0.00309889\n",
       " 0.00307121  0.00312332\n",
       " 0.00314018  0.00313284\n",
       " 0.00316953  0.00317481\n",
       " 0.00318638  0.00319895\n",
       " 0.00320859  0.00323231\n",
       " 0.0032281   0.00324399\n",
       " 0.00325515  0.00325368"
      ]
     },
     "execution_count": 3,
     "metadata": {},
     "output_type": "execute_result"
    }
   ],
   "source": [
    "using JLD2\n",
    "using LinearAlgebra\n",
    "\n",
    "MatD = 1000;\n",
    "RepN = 20;\n",
    "allow_run = false; \t# set to true for time-consuming simulations; and false for coursework assessment\n",
    "\n",
    "if allow_run\n",
    "    # time-consuming simulations\n",
    "    Aeig = Array{Float64,2}(undef,MatD,RepN);\n",
    "    for n in 1:RepN\n",
    "        A=rand(MatD,MatD);\n",
    "        A = A'*A;\n",
    "        Aeig[:,n] = eigvals(inv(A));\n",
    "    end\n",
    "\n",
    "    # save simulation results\n",
    "    @save \"example.jld2\" Aeig\n",
    "else \n",
    "    # load Aeig from a file to avoid time-consuming simulations\n",
    "    @load \"example.jld2\" Aeig\n",
    "end\n",
    "\n",
    "Aeig[1:10,1:2]"
   ]
  },
  {
   "cell_type": "markdown",
   "metadata": {},
   "source": [
    "### 0.2.2 Jupyter Notebook for Reporting\n",
    "\n",
    "Jupyter notebook files are with extension `.ipynb`.\n",
    "\n",
    "There are two key terms in Jupyter Notebook: *cells* and *kernels*:\n",
    "\n",
    "* A kernel is a “computational engine” that executes the code. For coursework, we set kernel to Julia. \n",
    "* A cell is a container for text to be displayed in the notebook or code to be executed by the notebook’s kernel. \n",
    "\n",
    "There are two cell types in Jupyter Notebook: \n",
    "\n",
    "* A code cell contains code to be executed in the kernel. \n",
    "* A Markdown cell contains text formatted using Markdown. The article [here](https://towardsdatascience.com/write-markdown-latex-in-the-jupyter-notebook-10985edb91fd) discusses how to write markdown in the Jupyter notebook.\n",
    "\n",
    "VS Codes provides native support for Jupyter Notebook. Please see [here](https://code.visualstudio.com/docs/datascience/jupyter-notebooks) for details. \n"
   ]
  },
  {
   "cell_type": "markdown",
   "metadata": {},
   "source": [
    "## 0.3 Exercise (Will not be marked)\n",
    "\n",
    "Write a function `unitcol_matrix`.    \n",
    "Input: $M,N \\in \\mathbb{Z}^+$   \n",
    "Output: A randomly generated matrix $A \\in \\mathbb{R}^{M \\times N}$ such that each column has unit $\\ell_2$-norm, i.e., $\\| A_{:,n}\\|_2 = 1,~ \\forall n$.   "
   ]
  },
  {
   "cell_type": "code",
   "execution_count": 10,
   "metadata": {},
   "outputs": [
    {
     "name": "stdout",
     "output_type": "stream",
     "text": [
      "p = 12345678901234567891\n",
      "\n",
      "\n",
      "pList = BigInt[12345678901234567891, 12345678901234568003, 12345678901234568033, 12345678901234568059, 12345678901234568101, 12345678901234568171, 12345678901234568189, 12345678901234568221, 12345678901234568231, 12345678901234568243, 12345678901234568291, 12345678901234568377, 12345678901234568381, 12345678901234568411, 12345678901234568419, 12345678901234568441, 12345678901234568443, 12345678901234568497, 12345678901234568543, 12345678901234568551, 12345678901234568621, 12345678901234568623, 12345678901234568749, 12345678901234568809, 12345678901234568833, 12345678901234568873]\n"
     ]
    }
   ],
   "source": [
    "using LinearAlgebra\n",
    "\n",
    "function unitcol_matrix(M::Int64, N::Int64)\n",
    "    A = randn(Float64,M,N);\n",
    "\n",
    "    # Complete the programming:\n",
    "    Acol_n2 =   # Calculate the squared L2 norm of columns of A \n",
    "    Acol_n =    # L2 norm of columns of A \n",
    "    A =         # Normalise the columns of A. The function Diagonal (in LinearAlgebra) can be handy\n",
    "\n",
    "    return A;\n",
    "end "
   ]
  }
 ],
 "metadata": {
  "kernelspec": {
   "display_name": "Julia 1.7.2",
   "language": "julia",
   "name": "julia-1.7"
  },
  "language_info": {
   "file_extension": ".jl",
   "mimetype": "application/julia",
   "name": "julia",
   "version": "1.7.2"
  },
  "orig_nbformat": 4,
  "vscode": {
   "interpreter": {
    "hash": "e0de548ffb181fe2a01b2ed5f402e6bb6e6ccf2641efffae0817d36d41e1e10e"
   }
  }
 },
 "nbformat": 4,
 "nbformat_minor": 2
}
