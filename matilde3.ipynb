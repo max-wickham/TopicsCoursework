{
 "cells": [
  {
   "cell_type": "code",
   "execution_count": 4,
   "metadata": {},
   "outputs": [
    {
     "name": "stderr",
     "output_type": "stream",
     "text": [
      "\u001b[32m\u001b[1m    Updating\u001b[22m\u001b[39m registry at `~/.julia/registries/General.toml`\n"
     ]
    },
    {
     "name": "stderr",
     "output_type": "stream",
     "text": [
      "\u001b[32m\u001b[1m   Resolving\u001b[22m\u001b[39m package versions...\n"
     ]
    },
    {
     "name": "stderr",
     "output_type": "stream",
     "text": [
      "\u001b[32m\u001b[1m   Installed\u001b[22m\u001b[39m InlineStrings ── v1.3.2\n",
      "\u001b[32m\u001b[1m   Installed\u001b[22m\u001b[39m SentinelArrays ─ v1.3.16\n",
      "\u001b[32m\u001b[1m   Installed\u001b[22m\u001b[39m WeakRefStrings ─ v1.4.2\n"
     ]
    },
    {
     "name": "stderr",
     "output_type": "stream",
     "text": [
      "\u001b[32m\u001b[1m   Installed\u001b[22m\u001b[39m FilePathsBase ── v0.9.20\n"
     ]
    },
    {
     "name": "stderr",
     "output_type": "stream",
     "text": [
      "\u001b[32m\u001b[1m   Installed\u001b[22m\u001b[39m CSV ──────────── v0.10.7\n"
     ]
    },
    {
     "name": "stderr",
     "output_type": "stream",
     "text": [
      "\u001b[32m\u001b[1m    Updating\u001b[22m\u001b[39m `~/.julia/environments/v1.8/Project.toml`\n",
      " \u001b[90m [336ed68f] \u001b[39m\u001b[92m+ CSV v0.10.7\u001b[39m\n",
      "\u001b[32m\u001b[1m    Updating\u001b[22m\u001b[39m `~/.julia/environments/v1.8/Manifest.toml`\n"
     ]
    },
    {
     "name": "stderr",
     "output_type": "stream",
     "text": [
      " \u001b[90m [336ed68f] \u001b[39m\u001b[92m+ CSV v0.10.7\u001b[39m\n",
      " \u001b[90m [944b1d66] \u001b[39m\u001b[92m+ CodecZlib v0.7.0\u001b[39m\n",
      " \u001b[90m [48062228] \u001b[39m\u001b[92m+ FilePathsBase v0.9.20\u001b[39m\n",
      " \u001b[90m [842dd82b] \u001b[39m\u001b[92m+ InlineStrings v1.3.2\u001b[39m\n",
      " \u001b[90m [91c51154] \u001b[39m\u001b[92m+ SentinelArrays v1.3.16\u001b[39m\n",
      " \u001b[90m [ea10d353] \u001b[39m\u001b[92m+ WeakRefStrings v1.4.2\u001b[39m\n"
     ]
    },
    {
     "name": "stderr",
     "output_type": "stream",
     "text": [
      "\u001b[32m\u001b[1mPrecompiling\u001b[22m\u001b[39m "
     ]
    },
    {
     "name": "stderr",
     "output_type": "stream",
     "text": [
      "project...\n"
     ]
    },
    {
     "name": "stderr",
     "output_type": "stream",
     "text": [
      "\u001b[32m  ✓ \u001b[39m\u001b[90mSentinelArrays\u001b[39m\n"
     ]
    },
    {
     "name": "stderr",
     "output_type": "stream",
     "text": [
      "\u001b[32m  ✓ \u001b[39m\u001b[90mFilePathsBase\u001b[39m\n"
     ]
    },
    {
     "name": "stderr",
     "output_type": "stream",
     "text": [
      "\u001b[32m  ✓ \u001b[39m\u001b[90mInlineStrings\u001b[39m\n"
     ]
    },
    {
     "name": "stderr",
     "output_type": "stream",
     "text": [
      "\u001b[32m  ✓ \u001b[39m\u001b[90mWeakRefStrings\u001b[39m\n"
     ]
    },
    {
     "name": "stderr",
     "output_type": "stream",
     "text": [
      "\u001b[32m  ✓ \u001b[39mCSV\n",
      "  5 dependencies successfully precompiled in 8 seconds. 312 already precompiled.\n"
     ]
    }
   ],
   "source": [
    "import Pkg; Pkg.add(\"CSV\")"
   ]
  },
  {
   "cell_type": "code",
   "execution_count": 5,
   "metadata": {},
   "outputs": [],
   "source": [
    "using Images, FileIO\n",
    "using DataFrames\n",
    "using CSV\n",
    "using Downloads\n",
    "\n",
    "# P = Downloads.download(\"https://raw.githubusercontent.com/nassarhuda/easy_data/master/programming_languages.csv\",\n",
    "#     \"programming_languages.csv\")\n",
    "\n"
   ]
  },
  {
   "cell_type": "code",
   "execution_count": 6,
   "metadata": {},
   "outputs": [
    {
     "data": {
      "text/html": [
       "<div><div style = \"float: left;\"><span>100836×4 DataFrame</span></div><div style = \"float: right;\"><span style = \"font-style: italic;\">100811 rows omitted</span></div><div style = \"clear: both;\"></div></div><div class = \"data-frame\" style = \"overflow-x: scroll;\"><table class = \"data-frame\" style = \"margin-bottom: 6px;\"><thead><tr class = \"header\"><th class = \"rowNumber\" style = \"font-weight: bold; text-align: right;\">Row</th><th style = \"text-align: left;\">userId</th><th style = \"text-align: left;\">movieId</th><th style = \"text-align: left;\">rating</th><th style = \"text-align: left;\">timestamp</th></tr><tr class = \"subheader headerLastRow\"><th class = \"rowNumber\" style = \"font-weight: bold; text-align: right;\"></th><th title = \"Int64\" style = \"text-align: left;\">Int64</th><th title = \"Int64\" style = \"text-align: left;\">Int64</th><th title = \"Float64\" style = \"text-align: left;\">Float64</th><th title = \"Int64\" style = \"text-align: left;\">Int64</th></tr></thead><tbody><tr><td class = \"rowNumber\" style = \"font-weight: bold; text-align: right;\">1</td><td style = \"text-align: right;\">1</td><td style = \"text-align: right;\">1</td><td style = \"text-align: right;\">4.0</td><td style = \"text-align: right;\">964982703</td></tr><tr><td class = \"rowNumber\" style = \"font-weight: bold; text-align: right;\">2</td><td style = \"text-align: right;\">1</td><td style = \"text-align: right;\">3</td><td style = \"text-align: right;\">4.0</td><td style = \"text-align: right;\">964981247</td></tr><tr><td class = \"rowNumber\" style = \"font-weight: bold; text-align: right;\">3</td><td style = \"text-align: right;\">1</td><td style = \"text-align: right;\">6</td><td style = \"text-align: right;\">4.0</td><td style = \"text-align: right;\">964982224</td></tr><tr><td class = \"rowNumber\" style = \"font-weight: bold; text-align: right;\">4</td><td style = \"text-align: right;\">1</td><td style = \"text-align: right;\">47</td><td style = \"text-align: right;\">5.0</td><td style = \"text-align: right;\">964983815</td></tr><tr><td class = \"rowNumber\" style = \"font-weight: bold; text-align: right;\">5</td><td style = \"text-align: right;\">1</td><td style = \"text-align: right;\">50</td><td style = \"text-align: right;\">5.0</td><td style = \"text-align: right;\">964982931</td></tr><tr><td class = \"rowNumber\" style = \"font-weight: bold; text-align: right;\">6</td><td style = \"text-align: right;\">1</td><td style = \"text-align: right;\">70</td><td style = \"text-align: right;\">3.0</td><td style = \"text-align: right;\">964982400</td></tr><tr><td class = \"rowNumber\" style = \"font-weight: bold; text-align: right;\">7</td><td style = \"text-align: right;\">1</td><td style = \"text-align: right;\">101</td><td style = \"text-align: right;\">5.0</td><td style = \"text-align: right;\">964980868</td></tr><tr><td class = \"rowNumber\" style = \"font-weight: bold; text-align: right;\">8</td><td style = \"text-align: right;\">1</td><td style = \"text-align: right;\">110</td><td style = \"text-align: right;\">4.0</td><td style = \"text-align: right;\">964982176</td></tr><tr><td class = \"rowNumber\" style = \"font-weight: bold; text-align: right;\">9</td><td style = \"text-align: right;\">1</td><td style = \"text-align: right;\">151</td><td style = \"text-align: right;\">5.0</td><td style = \"text-align: right;\">964984041</td></tr><tr><td class = \"rowNumber\" style = \"font-weight: bold; text-align: right;\">10</td><td style = \"text-align: right;\">1</td><td style = \"text-align: right;\">157</td><td style = \"text-align: right;\">5.0</td><td style = \"text-align: right;\">964984100</td></tr><tr><td class = \"rowNumber\" style = \"font-weight: bold; text-align: right;\">11</td><td style = \"text-align: right;\">1</td><td style = \"text-align: right;\">163</td><td style = \"text-align: right;\">5.0</td><td style = \"text-align: right;\">964983650</td></tr><tr><td class = \"rowNumber\" style = \"font-weight: bold; text-align: right;\">12</td><td style = \"text-align: right;\">1</td><td style = \"text-align: right;\">216</td><td style = \"text-align: right;\">5.0</td><td style = \"text-align: right;\">964981208</td></tr><tr><td class = \"rowNumber\" style = \"font-weight: bold; text-align: right;\">13</td><td style = \"text-align: right;\">1</td><td style = \"text-align: right;\">223</td><td style = \"text-align: right;\">3.0</td><td style = \"text-align: right;\">964980985</td></tr><tr><td style = \"text-align: right;\">&vellip;</td><td style = \"text-align: right;\">&vellip;</td><td style = \"text-align: right;\">&vellip;</td><td style = \"text-align: right;\">&vellip;</td><td style = \"text-align: right;\">&vellip;</td></tr><tr><td class = \"rowNumber\" style = \"font-weight: bold; text-align: right;\">100825</td><td style = \"text-align: right;\">610</td><td style = \"text-align: right;\">161582</td><td style = \"text-align: right;\">4.0</td><td style = \"text-align: right;\">1493847759</td></tr><tr><td class = \"rowNumber\" style = \"font-weight: bold; text-align: right;\">100826</td><td style = \"text-align: right;\">610</td><td style = \"text-align: right;\">161634</td><td style = \"text-align: right;\">4.0</td><td style = \"text-align: right;\">1493848362</td></tr><tr><td class = \"rowNumber\" style = \"font-weight: bold; text-align: right;\">100827</td><td style = \"text-align: right;\">610</td><td style = \"text-align: right;\">162350</td><td style = \"text-align: right;\">3.5</td><td style = \"text-align: right;\">1493849971</td></tr><tr><td class = \"rowNumber\" style = \"font-weight: bold; text-align: right;\">100828</td><td style = \"text-align: right;\">610</td><td style = \"text-align: right;\">163937</td><td style = \"text-align: right;\">3.5</td><td style = \"text-align: right;\">1493848789</td></tr><tr><td class = \"rowNumber\" style = \"font-weight: bold; text-align: right;\">100829</td><td style = \"text-align: right;\">610</td><td style = \"text-align: right;\">163981</td><td style = \"text-align: right;\">3.5</td><td style = \"text-align: right;\">1493850155</td></tr><tr><td class = \"rowNumber\" style = \"font-weight: bold; text-align: right;\">100830</td><td style = \"text-align: right;\">610</td><td style = \"text-align: right;\">164179</td><td style = \"text-align: right;\">5.0</td><td style = \"text-align: right;\">1493845631</td></tr><tr><td class = \"rowNumber\" style = \"font-weight: bold; text-align: right;\">100831</td><td style = \"text-align: right;\">610</td><td style = \"text-align: right;\">166528</td><td style = \"text-align: right;\">4.0</td><td style = \"text-align: right;\">1493879365</td></tr><tr><td class = \"rowNumber\" style = \"font-weight: bold; text-align: right;\">100832</td><td style = \"text-align: right;\">610</td><td style = \"text-align: right;\">166534</td><td style = \"text-align: right;\">4.0</td><td style = \"text-align: right;\">1493848402</td></tr><tr><td class = \"rowNumber\" style = \"font-weight: bold; text-align: right;\">100833</td><td style = \"text-align: right;\">610</td><td style = \"text-align: right;\">168248</td><td style = \"text-align: right;\">5.0</td><td style = \"text-align: right;\">1493850091</td></tr><tr><td class = \"rowNumber\" style = \"font-weight: bold; text-align: right;\">100834</td><td style = \"text-align: right;\">610</td><td style = \"text-align: right;\">168250</td><td style = \"text-align: right;\">5.0</td><td style = \"text-align: right;\">1494273047</td></tr><tr><td class = \"rowNumber\" style = \"font-weight: bold; text-align: right;\">100835</td><td style = \"text-align: right;\">610</td><td style = \"text-align: right;\">168252</td><td style = \"text-align: right;\">5.0</td><td style = \"text-align: right;\">1493846352</td></tr><tr><td class = \"rowNumber\" style = \"font-weight: bold; text-align: right;\">100836</td><td style = \"text-align: right;\">610</td><td style = \"text-align: right;\">170875</td><td style = \"text-align: right;\">3.0</td><td style = \"text-align: right;\">1493846415</td></tr></tbody></table></div>"
      ],
      "text/latex": [
       "\\begin{tabular}{r|cccc}\n",
       "\t& userId & movieId & rating & timestamp\\\\\n",
       "\t\\hline\n",
       "\t& Int64 & Int64 & Float64 & Int64\\\\\n",
       "\t\\hline\n",
       "\t1 & 1 & 1 & 4.0 & 964982703 \\\\\n",
       "\t2 & 1 & 3 & 4.0 & 964981247 \\\\\n",
       "\t3 & 1 & 6 & 4.0 & 964982224 \\\\\n",
       "\t4 & 1 & 47 & 5.0 & 964983815 \\\\\n",
       "\t5 & 1 & 50 & 5.0 & 964982931 \\\\\n",
       "\t6 & 1 & 70 & 3.0 & 964982400 \\\\\n",
       "\t7 & 1 & 101 & 5.0 & 964980868 \\\\\n",
       "\t8 & 1 & 110 & 4.0 & 964982176 \\\\\n",
       "\t9 & 1 & 151 & 5.0 & 964984041 \\\\\n",
       "\t10 & 1 & 157 & 5.0 & 964984100 \\\\\n",
       "\t11 & 1 & 163 & 5.0 & 964983650 \\\\\n",
       "\t12 & 1 & 216 & 5.0 & 964981208 \\\\\n",
       "\t13 & 1 & 223 & 3.0 & 964980985 \\\\\n",
       "\t14 & 1 & 231 & 5.0 & 964981179 \\\\\n",
       "\t15 & 1 & 235 & 4.0 & 964980908 \\\\\n",
       "\t16 & 1 & 260 & 5.0 & 964981680 \\\\\n",
       "\t17 & 1 & 296 & 3.0 & 964982967 \\\\\n",
       "\t18 & 1 & 316 & 3.0 & 964982310 \\\\\n",
       "\t19 & 1 & 333 & 5.0 & 964981179 \\\\\n",
       "\t20 & 1 & 349 & 4.0 & 964982563 \\\\\n",
       "\t21 & 1 & 356 & 4.0 & 964980962 \\\\\n",
       "\t22 & 1 & 362 & 5.0 & 964982588 \\\\\n",
       "\t23 & 1 & 367 & 4.0 & 964981710 \\\\\n",
       "\t24 & 1 & 423 & 3.0 & 964982363 \\\\\n",
       "\t$\\dots$ & $\\dots$ & $\\dots$ & $\\dots$ & $\\dots$ \\\\\n",
       "\\end{tabular}\n"
      ],
      "text/plain": [
       "\u001b[1m100836×4 DataFrame\u001b[0m\n",
       "\u001b[1m    Row \u001b[0m│\u001b[1m userId \u001b[0m\u001b[1m movieId \u001b[0m\u001b[1m rating  \u001b[0m\u001b[1m timestamp  \u001b[0m\n",
       "        │\u001b[90m Int64  \u001b[0m\u001b[90m Int64   \u001b[0m\u001b[90m Float64 \u001b[0m\u001b[90m Int64      \u001b[0m\n",
       "────────┼──────────────────────────────────────\n",
       "      1 │      1        1      4.0   964982703\n",
       "      2 │      1        3      4.0   964981247\n",
       "      3 │      1        6      4.0   964982224\n",
       "      4 │      1       47      5.0   964983815\n",
       "      5 │      1       50      5.0   964982931\n",
       "      6 │      1       70      3.0   964982400\n",
       "      7 │      1      101      5.0   964980868\n",
       "      8 │      1      110      4.0   964982176\n",
       "   ⋮    │   ⋮        ⋮        ⋮         ⋮\n",
       " 100830 │    610   164179      5.0  1493845631\n",
       " 100831 │    610   166528      4.0  1493879365\n",
       " 100832 │    610   166534      4.0  1493848402\n",
       " 100833 │    610   168248      5.0  1493850091\n",
       " 100834 │    610   168250      5.0  1494273047\n",
       " 100835 │    610   168252      5.0  1493846352\n",
       " 100836 │    610   170875      3.0  1493846415\n",
       "\u001b[36m                            100821 rows omitted\u001b[0m"
      ]
     },
     "metadata": {},
     "output_type": "display_data"
    }
   ],
   "source": [
    "#-------------Q1.1.1-------------\n",
    "\n",
    "C = CSV.read(\"./ratings.csv\", DataFrame);\n",
    "#print(C)\n"
   ]
  },
  {
   "cell_type": "code",
   "execution_count": 7,
   "metadata": {},
   "outputs": [
    {
     "data": {
      "text/plain": [
       "610×1650 Matrix{Float64}:\n",
       " 4.0  0.0  4.0  0.0  4.0  0.0  0.0  0.0  …  0.0  0.0  0.0  0.0  0.0  0.0  0.0\n",
       " 0.0  0.0  0.0  0.0  0.0  0.0  0.0  0.0     0.0  0.0  0.0  0.0  0.0  0.0  0.0\n",
       " 0.0  0.0  0.0  0.0  0.0  0.0  0.0  0.0     0.0  0.0  0.0  0.0  0.0  0.0  0.0\n",
       " 0.0  0.0  0.0  0.0  0.0  0.0  0.0  0.0     0.0  0.0  0.0  0.0  0.0  0.0  0.0\n",
       " 4.0  0.0  0.0  0.0  0.0  0.0  0.0  0.0     0.0  0.0  0.0  0.0  0.0  0.0  0.0\n",
       " 0.0  4.0  5.0  5.0  4.0  4.0  0.0  3.0  …  0.0  0.0  0.0  0.0  0.0  0.0  0.0\n",
       " 4.5  0.0  0.0  0.0  0.0  0.0  0.0  0.0     0.0  0.0  0.0  0.0  0.0  0.0  0.0\n",
       " 0.0  4.0  0.0  0.0  0.0  0.0  0.0  2.0     0.0  0.0  0.0  0.0  0.0  0.0  0.0\n",
       " 0.0  0.0  0.0  0.0  0.0  0.0  0.0  0.0     0.0  0.0  0.0  0.0  0.0  0.0  0.0\n",
       " 0.0  0.0  0.0  0.0  0.0  0.0  0.0  0.0     0.0  0.0  0.0  0.0  0.0  0.0  0.0\n",
       " ⋮                        ⋮              ⋱            ⋮                   \n",
       " 0.0  4.0  0.0  0.0  3.0  0.0  0.0  3.0     0.0  0.0  0.0  0.0  0.0  0.0  0.0\n",
       " 4.0  0.0  0.0  0.0  4.0  0.0  0.0  0.0     0.0  0.0  0.0  0.0  0.0  0.0  0.0\n",
       " 3.0  5.0  0.0  3.0  3.0  0.0  0.0  0.0     0.0  0.0  0.0  0.0  0.0  0.0  0.0\n",
       " 4.0  3.5  0.0  0.0  0.0  0.0  0.0  0.0     0.0  0.0  0.0  0.0  0.0  0.0  0.0\n",
       " 2.5  0.0  0.0  0.0  0.0  2.5  0.0  0.0  …  0.0  0.0  0.0  0.0  0.0  0.0  0.0\n",
       " 4.0  0.0  0.0  0.0  0.0  0.0  0.0  0.0     0.0  0.0  0.0  0.0  0.0  0.0  0.0\n",
       " 2.5  2.0  2.0  0.0  0.0  0.0  0.0  4.0     0.0  0.0  0.0  0.0  0.0  0.0  0.0\n",
       " 3.0  0.0  0.0  0.0  0.0  0.0  0.0  4.0     0.0  0.0  0.0  0.0  0.0  0.0  0.0\n",
       " 5.0  0.0  0.0  0.0  5.0  0.0  0.0  0.0     4.0  5.0  5.0  4.0  5.0  5.0  0.0"
      ]
     },
     "metadata": {},
     "output_type": "display_data"
    }
   ],
   "source": [
    "#delete all the movies that have less than 15 ratings and get dimension\n",
    "groupby(C, \"userId\")\n",
    "n_users = sort(unique(C.userId)) #row correspond to userID, even if empty\n",
    "n_row = size(n_users)[1]\n",
    "groupby(C, \"movieId\")\n",
    "C0 = combine(groupby(C, [:movieId]), nrow => :n_rating)\n",
    "validId = filter(y -> y.n_rating >=15, C0)\n",
    "X = filter( x -> x.movieId in validId[:, \"movieId\"], C)\n",
    "\n",
    "groupby(X, \"movieId\")\n",
    "n_unique_movie = sort(unique(X.movieId))#unique movie id correspond to column\n",
    "n_column = size(n_unique_movie)[1]\n",
    "X0= zeros(n_row,n_column )\n",
    "for n in eachrow(X)\n",
    "    mId = n[2]\n",
    "    uId = n[1]\n",
    "    rating = n[3]\n",
    "    column = findfirst( x -> x == mId, n_unique_movie )\n",
    "    X0[uId, column] = rating\n",
    "end\n",
    "\n",
    "M,N =size(X0)\n",
    "X0"
   ]
  },
  {
   "cell_type": "code",
   "execution_count": 9,
   "metadata": {},
   "outputs": [
    {
     "data": {
      "text/plain": [
       "(610, 1650)"
      ]
     },
     "metadata": {},
     "output_type": "display_data"
    }
   ],
   "source": [
    "size(X0)"
   ]
  },
  {
   "cell_type": "code",
   "execution_count": 10,
   "metadata": {},
   "outputs": [
    {
     "data": {
      "text/plain": [
       "1"
      ]
     },
     "metadata": {},
     "output_type": "display_data"
    }
   ],
   "source": [
    "#--------------Q1.1.2\n",
    "Δ = Array{Int64,2}(undef,0,2)\n",
    "for n in eachrow(X)\n",
    "    mId = n[2]\n",
    "    uId = n[1]\n",
    "    column = findfirst( x -> x == mId, n_unique_movie )\n",
    "    Δ =[Δ; [uId, column]']\n",
    "end \n",
    "size(Δ)"
   ]
  },
  {
   "cell_type": "code",
   "execution_count": 12,
   "metadata": {},
   "outputs": [
    {
     "data": {
      "text/plain": [
       "73845×2 Matrix{Int64}:\n",
       "   1     1\n",
       "   1     3\n",
       "   1     5\n",
       "   1    32\n",
       "   1    34\n",
       "   1    41\n",
       "   1    47\n",
       "   1    51\n",
       "   1    61\n",
       "   1    67\n",
       "   ⋮  \n",
       " 610  1641\n",
       " 610  1642\n",
       " 610  1643\n",
       " 610  1644\n",
       " 610  1645\n",
       " 610  1646\n",
       " 610  1647\n",
       " 610  1648\n",
       " 610  1649"
      ]
     },
     "metadata": {},
     "output_type": "display_data"
    }
   ],
   "source": [
    "size(Δ)\n",
    "Δ"
   ]
  },
  {
   "cell_type": "code",
   "execution_count": 13,
   "metadata": {},
   "outputs": [
    {
     "data": {
      "text/plain": [
       "59076-element Vector{Int64}:\n",
       "     1\n",
       "     2\n",
       "     4\n",
       "     5\n",
       "     6\n",
       "     7\n",
       "     8\n",
       "     9\n",
       "    10\n",
       "    11\n",
       "     ⋮\n",
       " 73836\n",
       " 73837\n",
       " 73839\n",
       " 73840\n",
       " 73841\n",
       " 73842\n",
       " 73843\n",
       " 73844\n",
       " 73845"
      ]
     },
     "metadata": {},
     "output_type": "display_data"
    }
   ],
   "source": [
    "#----------------Q1.1.3-----------\n",
    "\n",
    "using Random, StatsBase\n",
    "Random.seed!(1234);\n",
    "Δ_size = ceil(Int64,0.8*size(Δ)[1]);\n",
    "#x = collect(1:size(X0)[1]*size(X0)[1])\n",
    "Ω = sort(sample(collect(1:size(Δ)[1]), Δ_size, replace=false));\n",
    "#size(Ω)"
   ]
  },
  {
   "cell_type": "code",
   "execution_count": 17,
   "metadata": {},
   "outputs": [
    {
     "data": {
      "text/plain": [
       "59076×1 Matrix{Float64}:\n",
       " 4.0\n",
       " 4.0\n",
       " 5.0\n",
       " 5.0\n",
       " 3.0\n",
       " 5.0\n",
       " 4.0\n",
       " 5.0\n",
       " 5.0\n",
       " 5.0\n",
       " ⋮\n",
       " 3.5\n",
       " 4.5\n",
       " 4.0\n",
       " 4.0\n",
       " 5.0\n",
       " 5.0\n",
       " 4.0\n",
       " 5.0\n",
       " 5.0"
      ]
     },
     "metadata": {},
     "output_type": "display_data"
    }
   ],
   "source": [
    "#training data\n",
    "function pOmega(X0)\n",
    "    Δ_sampled = Δ[Ω,:]\n",
    "    X0_sampled = zeros(size(Δ_sampled)[1], 1)\n",
    "    for i in 1:size(Δ_sampled)[1] \n",
    "        X0_sampled[i] = X0[Δ_sampled[i,1], Δ_sampled[i,2] ]\n",
    "    end\n",
    "    return X0_sampled\n",
    "end\n",
    "y = pOmega(X0)\n",
    "# Δ_sampled = Δ[Ω,:]\n",
    "# X0_sampled = zeros(size(Δ_sampled)[1], 1)\n"
   ]
  },
  {
   "cell_type": "code",
   "execution_count": 19,
   "metadata": {},
   "outputs": [
    {
     "data": {
      "text/plain": [
       "14769×1 Matrix{Float64}:\n",
       " 4.0\n",
       " 3.0\n",
       " 4.0\n",
       " 4.0\n",
       " 5.0\n",
       " 4.0\n",
       " 4.0\n",
       " 5.0\n",
       " 5.0\n",
       " 4.0\n",
       " ⋮\n",
       " 4.0\n",
       " 4.5\n",
       " 3.5\n",
       " 4.0\n",
       " 4.0\n",
       " 3.5\n",
       " 4.0\n",
       " 3.5\n",
       " 3.5"
      ]
     },
     "metadata": {},
     "output_type": "display_data"
    }
   ],
   "source": [
    "#test data\n",
    "function pDeltaOmega(X0)\n",
    "    Ω_not = [i for i in 1:size(Δ)[1] if !(i in Ω)]\n",
    "    Δ_sampled = Δ[Ω_not,:]\n",
    "    X0_sampled = zeros(size(Δ_sampled)[1], 1)\n",
    "    for i in 1:size(Δ_sampled)[1] \n",
    "        X0_sampled[i] = X0[Δ_sampled[i,1], Δ_sampled[i,2] ]\n",
    "    end\n",
    "    return X0_sampled\n",
    "\n",
    "    # Δ_sampled = zeros(Int64, (size(Δ)[1]-size(Ω)[1]), 2)\n",
    "    # n = 1\n",
    "    # for i in 1:size(Δ)[1]\n",
    "    #     if i ∉ Ω\n",
    "    #         Δ_sampled[n,:] =  Δ[i,:]\n",
    "    #         n = n+1\n",
    "    #     end\n",
    "    # end\n",
    "    # X0_sampled = []\n",
    "    # for j in 1:size(Δ_sampled)[1]\n",
    "    #     m = Δ_sampled[j, 1]\n",
    "    #     n = Δ_sampled[j,2]\n",
    "    #     new = X0[m, n]\n",
    "    #     push!(X0_sampled, new)\n",
    "    # end\n",
    "    # return X0_sampled\n",
    "end\n",
    "y_e = pDeltaOmega(X0)\n",
    "\n"
   ]
  },
  {
   "cell_type": "code",
   "execution_count": 53,
   "metadata": {},
   "outputs": [
    {
     "name": "stdout",
     "output_type": "stream",
     "text": [
      "M = 610\n",
      "size(r) = "
     ]
    },
    {
     "name": "stdout",
     "output_type": "stream",
     "text": [
      "(477, 10)\n",
      "size(y) = (1, 477)\n"
     ]
    },
    {
     "ename": "DimensionMismatch",
     "evalue": "DimensionMismatch: second dimension of A, 477, does not match length of x, 10",
     "output_type": "error",
     "traceback": [
      "DimensionMismatch: second dimension of A, 477, does not match length of x, 10\n",
      "\n",
      "Stacktrace:\n",
      " [1] gemv!(y::Vector{Float64}, tA::Char, A::Matrix{Float64}, x::Vector{Float64}, α::Bool, β::Bool)\n",
      "   @ LinearAlgebra /etc/julia-1.8.2/share/julia/stdlib/v1.8/LinearAlgebra/src/matmul.jl:493\n",
      " [2] mul!\n",
      "   @ /etc/julia-1.8.2/share/julia/stdlib/v1.8/LinearAlgebra/src/matmul.jl:93 [inlined]\n",
      " [3] mul!\n",
      "   @ /etc/julia-1.8.2/share/julia/stdlib/v1.8/LinearAlgebra/src/matmul.jl:276 [inlined]\n",
      " [4] *\n",
      "   @ /etc/julia-1.8.2/share/julia/stdlib/v1.8/LinearAlgebra/src/matmul.jl:86 [inlined]\n",
      " [5] *(x::Transpose{Float64, Vector{Float64}}, A::Matrix{Float64})\n",
      "   @ LinearAlgebra /etc/julia-1.8.2/share/julia/stdlib/v1.8/LinearAlgebra/src/matmul.jl:120\n",
      " [6] AMA(y::Matrix{Float64}, Ω::Vector{Int64}, Δ::Matrix{Int64}, L0::Matrix{Float64}, R0::Matrix{Float64}, th::Float64)\n",
      "   @ Main ~/Sync/Imperial/Year4/TopicsInLargeDimensionalDataProcessing/CourseWork/matilde3.ipynb:65\n",
      " [7] top-level scope\n",
      "   @ ~/Sync/Imperial/Year4/TopicsInLargeDimensionalDataProcessing/CourseWork/matilde3.ipynb:81"
     ]
    }
   ],
   "source": [
    "#------------Q1.2--------------\n",
    "\n",
    "using LinearAlgebra\n",
    "L0 = randn(Float64,M,10)\n",
    "R0 = randn(Float64,N,10)\n",
    "\n",
    "function p_adjoint(y)\n",
    "    Δ_sampled = Δ[Ω,:]\n",
    "    # y = vec(X0[Δ_sampled])\n",
    "    # to recover X0, insert y values in the entries of X0 indexed Δ_sampled\n",
    "    X0_recovered = zeros(M,N)\n",
    "    for j in 1:size(y)[1]\n",
    "        m = Δ_sampled[j, 1]\n",
    "        n = Δ_sampled[j,2]\n",
    "        X0_recovered[m,n] = y[j]\n",
    "    end\n",
    "    return X0_recovered\n",
    "end\n",
    "P_adj = p_adjoint(y)\n",
    "\n",
    "# println(size(L0))\n",
    "# println(size(R0))\n",
    "# println(size(P_adj))\n",
    "# println(size(pinv(L0)))\n",
    "# println(size(transpose(R0)))\n",
    "# println(size(pOmega(L0*transpose(R0), Ω, Δ)))\n",
    "# println(size(y))\n",
    "\n",
    "function AMA(y, Ω, Δ, L0, R0, th)\n",
    "    error_previous = norm(y - pOmega(L0*transpose(R0)))\n",
    "    L = L0\n",
    "    R = R0\n",
    "    step = 100\n",
    "    #target minimum is when ||y - P_omega(LR^T)||^2 = 0\n",
    "    #optimise first for L and then for R untill below a th of improvement at last iteration(convergence)\n",
    "    # while step > th\n",
    "    for _ in 1:1\n",
    "        #find L minimising equation, given fixed R\n",
    "        # L = p_adjoint(y)*pinv(transpose(R))\n",
    "        #find R minimising equation, given fixed L\n",
    "        # R = transpose(pinv(L)*p_adjoint(y))\n",
    "        # R = transpose(inv((transpose(y) * p_adjoint(pOmega(L)))) * transpose(L) * p_adjoint(y))\n",
    "\n",
    "        # For each column take \n",
    "        N = size(X0)[2]\n",
    "        M = size(X0)[1]\n",
    "        @show M\n",
    "\n",
    "        for j in 1:N\n",
    "            Ω_j = [((i-1) % M)+1 for i in Ω if (i > (j-1) * M) &&  (i <= j * M)]\n",
    "            y = X0[Ω_j,j]\n",
    "            l = L[Ω_j, :]\n",
    "            r = pinv(transpose(l)*l)\n",
    "            r = r*transpose(l)*y\n",
    "            R[j,:] = transpose(r) \n",
    "        end\n",
    "\n",
    "        for j in 1:N\n",
    "            Ω_j = [((i-1) % M)+1  for i in Ω if (i > (j-1) * M) &&  (i <= j * M)]\n",
    "            y = transpose(X0[Ω_j,j])\n",
    "            r = (R[Ω_j,:])\n",
    "            @show size(r)\n",
    "            @show size(y)\n",
    "            l = y * r\n",
    "            @show size(l)\n",
    "            @show size(r*transpose(r))\n",
    "            l = l * pinv(r*transpose(r))\n",
    "            L[Ω_j, :] = l\n",
    "        end\n",
    "\n",
    "\n",
    "\n",
    "\n",
    "\n",
    "        #compute convergence\n",
    "        error_new = norm(y - pOmega(L*transpose(R)))\n",
    "        step = error_previous - error_new\n",
    "        error_previous = error_new\n",
    "    end\n",
    "    return L*transpose(R)\n",
    "end\n",
    "\n",
    "X_hat = AMA(y, Ω, Δ, L0, R0, 0.01)"
   ]
  },
  {
   "cell_type": "code",
   "execution_count": 30,
   "metadata": {},
   "outputs": [
    {
     "data": {
      "text/plain": [
       "(610, 1650)"
      ]
     },
     "metadata": {},
     "output_type": "display_data"
    }
   ],
   "source": [
    "size(X0)"
   ]
  },
  {
   "cell_type": "code",
   "execution_count": 23,
   "metadata": {},
   "outputs": [
    {
     "name": "stdout",
     "output_type": "stream",
     "text": [
      "Training performance is: 6.651624970972602\n",
      "Testing performance is: 7.611462167358309\n"
     ]
    },
    {
     "data": {
      "text/plain": [
       "8.53853431016208"
      ]
     },
     "metadata": {},
     "output_type": "display_data"
    }
   ],
   "source": [
    "#------------------Q1.2.2----------------\n",
    "\n",
    "error_train = (norm(pOmega((X_hat-X0)))^2)/size(Ω)[1]\n",
    "error_test = (norm(pDeltaOmega((X_hat-X0)))^2)/(size(Δ)[1]-size(Ω)[1])\n",
    "println(\"Training performance is: \", error_train)\n",
    "println(\"Testing performance is: \", error_test)\n",
    "maximum(X_hat)"
   ]
  },
  {
   "cell_type": "markdown",
   "metadata": {},
   "source": [
    "------------------------------------------\n",
    "#------------------Q1.3.1----------------\n",
    "\n",
    " $ \\frac{d}{d\\bm{X}} \\frac{1}{2} \\lVert \\bm{y} - \\mathcal{P}_{\\Omega}(\\bm{X}) \\rVert_2^2 = \\frac{1}{2} \\frac{d}{d\\bm{X}} (\\bm{y} - \\mathcal{P}_{\\Omega}(\\bm{X}))^2 = - \\mathcal{P^*}_{\\Omega}(\\bm{y} - \\mathcal{P}_{\\Omega}(\\bm{X})) = \\mathcal{P^*}_{\\Omega}(\\mathcal{P}_{\\Omega}(\\bm{X}) -\\bm{y}) $\n",
    "\n"
   ]
  },
  {
   "cell_type": "code",
   "execution_count": 24,
   "metadata": {},
   "outputs": [
    {
     "data": {
      "text/plain": [
       "610×1650 Matrix{Float64}:\n",
       "  3.99726       0.0050722    3.99467     …   0.00307823    0.00223089\n",
       " -0.00451576    5.16616e-5  -0.00123199      0.0048543     0.00896336\n",
       " -0.000471356  -0.0011363    0.0045788       0.00449248    0.00291599\n",
       "  0.0122161    -0.00312376   0.00582553     -0.00171854    0.00057657\n",
       "  3.99044       0.0156369    0.0143479       0.00689837    0.000828202\n",
       "  0.0379977     3.99634      4.99005     …  -0.000707004   0.00209963\n",
       "  4.49552       0.00735327  -0.00262156     -0.00132582   -0.00422868\n",
       "  0.0227462     3.98408      0.00371554      0.00689119    0.00555207\n",
       " -9.6241e-5     0.00180173   0.0098465       0.0024345     0.00128151\n",
       "  0.0058013    -0.00013453  -0.00041454      0.00273458   -0.000245528\n",
       "  ⋮                                      ⋱                \n",
       "  0.0           0.0          0.0             0.0           0.0\n",
       "  0.0           0.0          0.0             0.0           0.0\n",
       "  0.0           0.0          0.0             0.0           0.0\n",
       "  0.0           0.0          0.0             0.0           0.0\n",
       "  0.0           0.0          0.0         …   0.0           0.0\n",
       "  0.0           0.0          0.0             0.0           0.0\n",
       "  0.0           0.0          0.0             0.0           0.0\n",
       "  0.0           0.0          0.0             0.0           0.0\n",
       "  0.0           0.0          0.0             0.0           0.0"
      ]
     },
     "metadata": {},
     "output_type": "display_data"
    }
   ],
   "source": [
    "#------------------Q1.3.2----------------\n",
    "using LinearMaps, LinearAlgebra\n",
    "using Statistics\n",
    "using Random\n",
    "Random.seed!(0);\n",
    "#ISTA iteration using soft-thresholding\n",
    "# X_next = η(X_prev + τ p_adjoint(y - pOmega(X_prev)) ; λ τ)\n",
    "# η = max(0, σ_i - γ)\n",
    "# τ = (0,2/σ_max (p_adjoint pOmega))\n",
    "λ = 0.1\n",
    "#use LinearMap for from function to matrix of pOmega\n",
    "POmega = LinearMap(pOmega, p_adjoint, M, N; ismutating=true) # by default has eltype(D) = Float64\n",
    "\n",
    "function η(σ, λ)\n",
    "    eta = maximum([0, σ - λ])\n",
    "    return eta\n",
    "end\n",
    "\n",
    "function PG(y, POmega, λ)\n",
    "    X_prev = zeros(M,N)\n",
    "    X_next = zeros(M,N)\n",
    "    #Σ =  svdvals(transpose(POmega)*POmega) #try with 1\n",
    "    σ_max =1 #descending order vector of singular values\n",
    "    τ = 1/σ_max #\n",
    "    step = Inf16\n",
    "     #while step > 0.01 #norm error above a threshold\n",
    "    for _ in 1:5\n",
    "        F = svd(X_prev + τ.*(p_adjoint(y-pOmega(X_prev))))\n",
    "        U, V, S  = F.U, F.V, F.S\n",
    "        S = Diagonal(η.(S, λ*τ))\n",
    "        X_next = U*S\n",
    "        X_next = X_next*transpose(V)\n",
    "        step = norm(X_prev- X_next, 2)/mean(X_prev)\n",
    "        X_prev = X_next\n",
    "    end\n",
    "    return X_next\n",
    "end\n",
    "\n",
    "\n",
    "X_hat_proximal = PG(y, POmega, λ)\n"
   ]
  },
  {
   "cell_type": "code",
   "execution_count": 27,
   "metadata": {},
   "outputs": [
    {
     "name": "stdout",
     "output_type": "stream",
     "text": [
      "Training error is: 0.20190017067165048\n"
     ]
    }
   ],
   "source": [
    "error_train = (norm(((X_hat_proximal-X0)))^2)/(size(X0)[1]*size(X0)[2])\n",
    "println(\"Training error is: \", error_train)"
   ]
  },
  {
   "cell_type": "code",
   "execution_count": 30,
   "metadata": {},
   "outputs": [
    {
     "name": "stdout",
     "output_type": "stream",
     "text": [
      "Testing performance is: 13.757089556934806\n"
     ]
    }
   ],
   "source": [
    "error_test = (norm(pDeltaOmega((X_hat_proximal-X0)))^2)/(size(Δ)[1]-size(Ω)[1])\n",
    "println(\"Testing performance is: \", error_test)"
   ]
  },
  {
   "cell_type": "markdown",
   "metadata": {},
   "source": [
    "#---------------Q1.4.1-----------------\n",
    "\n",
    "For $X^{k+1}$:\n",
    "We can take the derivate:\n",
    "$$\\frac{\\partial}{\\partial X} = -P_\\Omega^*(y-P_\\Omega(X)) + \\Lambda_1^T + \\Lambda_2^T + \\rho(X-Z_1)_F + \\rho(X-Z_2)_F $$\n",
    "Where we have used the following property:\n",
    "$$ \\left\\langle \\bm{\\Lambda},\\bm{X}-\\bm{Z}_1 \\right\\rangle = Tr(\\Lambda^T(X-Z)) = Tr(\\Lambda^TX) - Tr(\\Lambda^TZ) $$\n",
    "and therefore:\n",
    "$$ \\frac{\\partial}{\\partial X}(\\left\\langle \\bm{\\Lambda},\\bm{X}-\\bm{Z}_1 \\right\\rangle) = \\Lambda^T $$\n",
    "Setting $ \\frac{\\partial}{\\partial X} = 0$\n",
    "$$ -P_\\Omega^*(y-P_\\Omega(X)) + \\Lambda_1^T + \\Lambda_2^T + \\rho(X-Z_1)_F + \\rho(X-Z_2)_F = 0 $$\n",
    "$$ -P_\\Omega^*y+P_\\Omega^*P_\\Omega(X) + \\rho X - \\rho Z_1 + \\rho X - \\rho Z_2 = -\\Lambda_1^T - \\Lambda_2^T $$\n",
    "$$ X(P_\\Omega^*P_\\Omega + 2\\rho) = \\rho Z_1 + \\rho Z_2 - \\Lambda_1^T - \\Lambda_2^T + P_\\Omega^*y $$\n",
    "$$ X^{k+1} = (\\rho Z_1 + \\rho Z_2 - \\Lambda_1^T - \\Lambda_2^T + P_\\Omega^*y)(P_\\Omega^*P_\\Omega + 2\\rho)^{-1} $$"
   ]
  },
  {
   "cell_type": "markdown",
   "metadata": {},
   "source": [
    "#---------------Q1.4.2-----------------\n",
    "\n",
    "For $Z_1^{k+1}$: \n",
    "$$ Z_1^{k+1} = Umax(\\Sigma-\\frac{\\lambda}{\\rho}I, 0)D^T $$\n",
    "where m, n are the dimensions of $Z_1$\n",
    "and the SVD decomposition $U\\Sigma D^T$ comes from:\n",
    "$$U\\Sigma D^T = X^k + \\frac{1}{\\rho}\\Lambda_1$$\n",
    "(Reference: https://conservancy.umn.edu/bitstream/handle/11299/165456/Deshmane_umn_0130M_15223.pdf%3Bsequence=1)\n",
    "\n",
    "For $Z_2^{k+1}$: \n",
    "$$ Z_2^{k+1} = Proj(X^{k}+\\frac{\\Lambda_2}{\\rho})$$\n",
    "(Reference: http://foges.github.io/pogs/ref/admm)\n"
   ]
  }
 ],
 "metadata": {
  "kernelspec": {
   "display_name": "Julia 1.8.2",
   "language": "julia",
   "name": "julia-1.8"
  },
  "language_info": {
   "file_extension": ".jl",
   "mimetype": "application/julia",
   "name": "julia",
   "version": "1.8.2"
  },
  "orig_nbformat": 4,
  "vscode": {
   "interpreter": {
    "hash": "ffab127bf673b131be731f1ba8ec6801c697b604f2885b5a2ba4a04c6166afbc"
   }
  }
 },
 "nbformat": 4,
 "nbformat_minor": 2
}
